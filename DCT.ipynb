{
 "cells": [
  {
   "cell_type": "code",
   "execution_count": 26,
   "metadata": {},
   "outputs": [],
   "source": [
    "import cv2\n",
    "import numpy as np\n",
    "import itertools\n",
    "import matplotlib.pyplot as plt\n",
    "from python_enigma import enigma\n",
    "import json\n",
    "import string"
   ]
  },
  {
   "cell_type": "code",
   "execution_count": 6,
   "metadata": {},
   "outputs": [],
   "source": [
    "quant = np.array([[16,11,10,16,24,40,51,61],      # QUANTIZATION TABLE\n",
    "                    [12,12,14,19,26,58,60,55],    # required for DCT\n",
    "                    [14,13,16,24,40,57,69,56],\n",
    "                    [14,17,22,29,51,87,80,62],\n",
    "                    [18,22,37,56,68,109,103,77],\n",
    "                    [24,35,55,64,81,104,113,92],\n",
    "                    [49,64,78,87,103,121,120,101],\n",
    "                    [72,92,95,98,112,100,103,99]])"
   ]
  },
  {
   "cell_type": "code",
   "execution_count": 7,
   "metadata": {},
   "outputs": [],
   "source": [
    "class DCT():    \n",
    "    def __init__(self): # Constructor\n",
    "        self.message = None\n",
    "        self.bitMess = None\n",
    "        self.oriCol = 0\n",
    "        self.oriRow = 0\n",
    "        self.numBits = 0   \n",
    "    #encoding part : \n",
    "    def encode_image(self,img,message):\n",
    "        #get length of message\n",
    "        self.message = str(len(message))+'*'+message\n",
    "        self.bitMess = self.toBits()\n",
    "        #get size of image in pixels\n",
    "        row,col = img.shape[:2]\n",
    "        ##col, row = img.size\n",
    "        self.oriRow, self.oriCol = row, col \n",
    "\n",
    "        if((col/8)*(row/8)<len(message)):\n",
    "            print(\"Error: Message too large to encode in image\")\n",
    "            return False\n",
    "        #make divisible by 8x8\n",
    "        if row%8 != 0 or col%8 != 0:\n",
    "            img = self.addPadd(img, row, col)\n",
    "        \n",
    "        row,col = img.shape[:2]\n",
    "        ##col, row = img.size\n",
    "        #split image into RGB channels\n",
    "        bImg,gImg,rImg = cv2.split(img)\n",
    "        #message to be hid in blue channel so converted to type float32 for dct function\n",
    "        bImg = np.float32(bImg)\n",
    "        #break into 8x8 blocks\n",
    "        imgBlocks = [np.round(bImg[j:j+8, i:i+8]-128) for (j,i) in itertools.product(range(0,row,8),\n",
    "                                                                       range(0,col,8))]\n",
    "        #Blocks are run through DCT function\n",
    "        dctBlocks = [np.round(cv2.dct(img_Block)) for img_Block in imgBlocks]\n",
    "        #blocks then run through quantization table\n",
    "        quantizedDCT = [np.round(dct_Block/quant) for dct_Block in dctBlocks]\n",
    "        #set LSB in DC value corresponding bit of message\n",
    "        messIndex = 0\n",
    "        letterIndex = 0\n",
    "        for quantizedBlock in quantizedDCT:\n",
    "            #find LSB in DC coeff and replace with message bit\n",
    "            DC = quantizedBlock[0][0]\n",
    "            DC = np.uint8(DC)\n",
    "            DC = np.unpackbits(DC)\n",
    "            DC[7] = self.bitMess[messIndex][letterIndex]\n",
    "            DC = np.packbits(DC)\n",
    "            DC = np.float32(DC)\n",
    "            DC= DC-255\n",
    "            quantizedBlock[0][0] = DC\n",
    "            letterIndex = letterIndex+1\n",
    "            if letterIndex == 8:\n",
    "                letterIndex = 0\n",
    "                messIndex = messIndex + 1\n",
    "                if messIndex == len(self.message):\n",
    "                    break\n",
    "        #blocks run inversely through quantization table\n",
    "        sImgBlocks = [quantizedBlock *quant+128 for quantizedBlock in quantizedDCT]\n",
    "        #blocks run through inverse DCT\n",
    "        #sImgBlocks = [cv2.idct(B)+128 for B in quantizedDCT]\n",
    "        #puts the new image back together\n",
    "        sImg=[]\n",
    "        for chunkRowBlocks in self.chunks(sImgBlocks, col/8):\n",
    "            for rowBlockNum in range(8):\n",
    "                for block in chunkRowBlocks:\n",
    "                    sImg.extend(block[rowBlockNum])\n",
    "        sImg = np.array(sImg).reshape(row, col)\n",
    "        #converted from type float32\n",
    "        sImg = np.uint8(sImg)\n",
    "        #show(sImg)\n",
    "        sImg = cv2.merge((sImg,gImg,rImg))\n",
    "        return sImg\n",
    "\n",
    "    def decode_image(self,img):\n",
    "        row,col = img.shape[:2]\n",
    "        messSize = None\n",
    "        messageBits = []\n",
    "        buff = 0\n",
    "        #split image into RGB channels\n",
    "        bImg,gImg,rImg = cv2.split(img)\n",
    "         #message hid in blue channel so converted to type float32 for dct function\n",
    "        bImg = np.float32(bImg)\n",
    "        #break into 8x8 blocks\n",
    "        imgBlocks = [bImg[j:j+8, i:i+8]-128 for (j,i) in itertools.product(range(0,row,8),\n",
    "                                                                       range(0,col,8))]    \n",
    "        #blocks run through quantization table\n",
    "        #quantizedDCT = [dct_Block/ (quant) for dct_Block in dctBlocks]\n",
    "        quantizedDCT = [img_Block/quant for img_Block in imgBlocks]\n",
    "        i=0\n",
    "        #message extracted from LSB of DC coeff\n",
    "        for quantizedBlock in quantizedDCT:\n",
    "            DC = quantizedBlock[0][0]\n",
    "            DC = np.uint8(DC)\n",
    "            DC = np.unpackbits(DC)\n",
    "            if DC[7] == 1:\n",
    "                buff+=(0 & 1) << (7-i)\n",
    "            elif DC[7] == 0:\n",
    "                buff+=(1&1) << (7-i)\n",
    "            i=1+i\n",
    "            if i == 8:\n",
    "                messageBits.append(chr(buff))\n",
    "                buff = 0\n",
    "                i =0\n",
    "                if messageBits[-1] == '*' and messSize is None:\n",
    "                    try:\n",
    "                        messSize = int(''.join(messageBits[:-1]))\n",
    "                    except:\n",
    "                        pass\n",
    "            if len(messageBits) - len(str(messSize)) - 1 == messSize:\n",
    "                return ''.join(messageBits)[len(str(messSize))+1:]\n",
    "        return ''\n",
    "    \n",
    "\n",
    "    def chunks(self, l, n):\n",
    "        m = int(n)\n",
    "        for i in range(0, len(l), m):\n",
    "            yield l[i:i + m]\n",
    "    def addPadd(self,img, row, col):\n",
    "        img = cv2.resize(img,(col+(8-col%8),row+(8-row%8)))    \n",
    "        return img\n",
    "    def toBits(self):\n",
    "        bits = []\n",
    "        for char in self.message:\n",
    "            binval = bin(ord(char))[2:].rjust(8,'0')\n",
    "            bits.append(binval)\n",
    "        self.numBits = bin(len(bits))[2:].rjust(8,'0')\n",
    "        return bits"
   ]
  },
  {
   "cell_type": "code",
   "execution_count": 10,
   "metadata": {},
   "outputs": [],
   "source": [
    "image = cv2.imread('startImages/IMG_4279.JPG')\n",
    "hiddenMessage = open('ThingsToHide/test.txt', 'r').read()\n",
    "# hiddenMessage"
   ]
  },
  {
   "cell_type": "code",
   "execution_count": 14,
   "metadata": {},
   "outputs": [
    {
     "data": {
      "text/plain": [
       "True"
      ]
     },
     "execution_count": 14,
     "metadata": {},
     "output_type": "execute_result"
    }
   ],
   "source": [
    "dctNoEncryptio = DCT().encode_image(image, hiddenMessage)\n",
    "cv2.imwrite('dctTest.png', dctNoEncryptio)"
   ]
  },
  {
   "cell_type": "code",
   "execution_count": 15,
   "metadata": {},
   "outputs": [],
   "source": [
    "#open image\n",
    "dctEncodedNoEncryption = cv2.imread('dctTest.png')"
   ]
  },
  {
   "cell_type": "code",
   "execution_count": 18,
   "metadata": {},
   "outputs": [],
   "source": [
    "decodedMessage = DCT().decode_image(dctEncodedNoEncryption)\n",
    "#save decoded message\n",
    "with open('DCT_decodedMessage_Without_Encryption.txt', 'w') as f:\n",
    "    f.write(decodedMessage)\n"
   ]
  },
  {
   "cell_type": "markdown",
   "metadata": {},
   "source": [
    "With enigma encryption"
   ]
  },
  {
   "cell_type": "code",
   "execution_count": 27,
   "metadata": {},
   "outputs": [],
   "source": [
    "#set the enigma machine up\n",
    "with open(\"catalogue.json\", \"r\") as file:\n",
    "    all_wheels = json.load(file)\n",
    "\n",
    "use_these = [(\"I\", \"A\"), (\"II\", \"B\"), (\"III\", \"C\")]\n",
    "machine = enigma.Enigma(catalog=\"default\", stecker=\"AQ BJ\",\n",
    "                        rotors=use_these, reflector=\"Reflector B\", operator=True, word_length=5, stator=\"military\")\n",
    "machine.set_wheels(\"ABC\")"
   ]
  },
  {
   "cell_type": "code",
   "execution_count": 28,
   "metadata": {},
   "outputs": [],
   "source": [
    "#load the image and the message\n",
    "image = cv2.imread('startImages/IMG_4279.JPG')\n",
    "hiddenMessage = open('ThingsToHide/test.txt', 'r').read()\n",
    "\n",
    "#need to normalizxe the message because the enigma machine does not like symbols\n",
    "#remove \\n\n",
    "hiddenMessage = hiddenMessage.replace('\\n', '')\n",
    "hiddenMessage = hiddenMessage.translate(str.maketrans('', '', string.punctuation))\n",
    "\n",
    "#encrypt the message\n",
    "encrypted_Message = machine.parse(hiddenMessage)"
   ]
  },
  {
   "cell_type": "code",
   "execution_count": 30,
   "metadata": {},
   "outputs": [
    {
     "data": {
      "text/plain": [
       "True"
      ]
     },
     "execution_count": 30,
     "metadata": {},
     "output_type": "execute_result"
    }
   ],
   "source": [
    "#encode the encrypted message in to the image\n",
    "dctEncoded = DCT().encode_image(image, encrypted_Message)\n",
    "#save the image\n",
    "cv2.imwrite('dct_Encrypted.png', dctEncoded)"
   ]
  },
  {
   "cell_type": "code",
   "execution_count": 29,
   "metadata": {},
   "outputs": [
    {
     "name": "stdout",
     "output_type": "stream",
     "text": [
      "WETHE PEOPL EOFTH EUNIT EDSTA TESIN ORDER TOFOR MAMOR EPERF ECTUN IONES TABLI SHJUS TICEI NSURE DOMES TICTR ANQUI LITYP ROVID EFORT HECOM MONDE FENCE PROMO TETHE GENER ALWEL FAREA NDSEC URETH EBLES SINGS OFLIB ERTYT OOURS ELVES ANDOU RPOST ERITY DOORD AINAN DESTA BLISH THISC ONSTI TUTIO NFORT HEUNI TEDST ATESO FAMER ICATH ECONS TITUT IONAL CONVE NTION ARTIC LEISE CTION CONGR ESSAL LLEGI SLATI VEPOW ERSHE REING RANTE DSHAL LBEVE STEDI NACON GRESS OFTHE UNITE DSTAT ESWHI CHSHA LLCON SISTO FASEN ATEAN DHOUS EOFRE PRESE NTATI VESSE CTION THEHO USEOF REPRE SENTA TIVES THEHO USEOF REPRE SENTA TIVES SHALL BECOM POSED OFMEM BERSC HOSEN EVERY SECON DYEAR BYTHE PEOPL EOFTH ESEVE RALST ATESA NDTHE ELECT ORSIN EACHS TATES HALLH AVETH EQUAL IFICA TIONS REQUI SITEF ORELE CTORS OFTHE MOSTN UMERO USBRA NCHOF THEST ATELE GISLA TUREN OPERS ONSHA LLBEA REPRE SENTA TIVEW HOSHA LLNOT HAVEA TTAIN EDTOT HEAGE OFTWE NTYFI VEYEA RSAND BEENS EVENY EARSA CITIZ ENOFT HEUNI TEDST ATESA NDWHO SHALL NOTWH ENELE CTEDB EANIN HABIT ANTOF THATS TATEI NWHIC HHESH ALLBE CHOSE NREPR ESENT ATIVE SANDD IRECT TAXES SHALL BEAPP ORTIO NEDAM ONGTH ESEVE RALST ATESW HICHM AYBEI NCLUD EDWIT HINTH ISUNI ONACC ORDIN GTOTH EIRRE SPECT IVENU MBERS WHICH SHALL BEDET ERMIN EDBYA DDING TOTHE WHOLE NUMBE ROFFR EEPER SONSI NCLUD INGTH OSEBO UNDTO SERVI CEFOR ATERM OFYEA RSAND EXCLU DINGI NDIAN SNOTT AXEDT HREEF IFTHS OFALL OTHER PERSO NSTHE ACTUA LENUM ERATI ONSHA LLBEM ADEWI THINT HREEY EARSA FTERT HEFIR STMEE TINGO FTHEC ONGRE SSOFT HEUNI TEDST ATESA NDWIT HINEV ERYSU BSEQU ENTTE RMOFT ENYEA RSINS UCHMA NNERA STHEY SHALL BYLAW DIREC TTHEN UMBER OFREP RESEN TATIV ESSHA LLNOT EXCEE DONEF OREVE RYTHI RTYTH OUSAN DBUTE ACHST ATESH ALLHA VEATL EASTO NEREP RESEN TATIV EANDU NTILS UCHEN UMERA TIONS HALLB EMADE THEST ATEOF NEWHA MPSHI RESHA LLBEE NTITL EDTOC HUSET HREEM ASSAC HUSET TSEIG HTRHO DEISL ANDAN DPROV IDENC EPLAN TATIO NSONE CONNE CTICU TFIVE NEWYO RKSIX NEWJE RSEYF OURPE NNSYL VANIA EIGHT DELAW AREON EMARY LANDS IXVIR GINIA TENNO RTHCA ROLIN AFIVE SOUTH CAROL INAFI VEAND GEORG IATHR EEWHE NVACA NCIES HAPPE NINTH EREPR ESENT ATION FROMA NYSTA TETHE EXECU TIVEA UTHOR ITYTH EREOF SHALL ISSUE WRITS OFELE CTION TOFIL LSUCH VACAN CIEST HEHOU SEOFR EPRES ENTAT IVESS HALLC HUSET HEIRS PEAKE RANDO THERO FFICE RSAND SHALL HAVET HESOL EPOWE ROFIM PEACH MENTS ECTIO NTHES ENATE THESE NATEO FTHEU NITED STATE SSHAL LBECO MPOSE DOFTW OSENA TORSF ROMEA CHSTA TECHO SENBY THELE GISLA TURET HEREO FFORS IXYEA RSAND EACHS ENATO RSHAL LHAVE ONEVO TEIMM EDIAT ELYAF TERTH EYSHA LLBEA SSEMB LEDIN CONSE QUENC EOFTH EFIRS TELEC TIONT HEYSH ALLBE DIVID EDASE QUALL YASMA YBEIN TOTHR EECLA SSEST HESEA TSOFT HESEN ATORS OFTHE FIRST CLASS SHALL BEVAC ATEDA TTHEE XPIRA TIONO FTHES ECOND YEARO FTHES ECOND CLASS ATTHE EXPIR ATION OFTHE FOURT HYEAR ANDOF THETH IRDCL ASSAT THEEX PIRAT IONOF THESI XTHYE ARSOT HATON ETHIR DMAYB ECHOS ENEVE RYSEC ONDYE ARAND IFVAC ANCIE SHAPP ENBYR ESIGN ATION OROTH ERWIS EDURI NGTHE RECES SOFTH ELEGI SLATU REOFA NYSTA TETHE EXECU TIVET HEREO FMAYM AKETE MPORA RYAPP OINTM ENTSU NTILT HENEX TMEET INGOF THELE GISLA TUREW HICHS HALLT HENFI LLSUC HVACA NCIES NOPER SONSH ALLBE ASENA TORWH OSHAL LNOTH AVEAT TAINE DTOTH EAGEO FTHIR TYYEA RSAND BEENN INEYE ARSAC ITIZE NOFTH EUNIT EDSTA TESAN DWHOS HALLN OTWHE NELEC TEDBE ANINH ABITA NTOFT HATST ATEFO RWHIC HHESH ALLBE CHOSE NTHEV ICEPR ESIDE NTOFT HEUNI TEDST ATESS HALLB EPRES IDENT OFTHE SENAT EBUTS HALLH AVENO VOTEU NLESS THEYB EEQUA LLYDI VIDED THESE NATES HALLC HUSET HEIRO THERO FFICE RSAND ALSOA PRESI DENTP ROTEM POREI NTHEA BSENC EOFTH EVICE PRESI DENTO RWHEN HESHA LLEXE RCISE THEOF FICEO FPRES IDENT OFTHE UNITE DSTAT ESTHE SENAT ESHAL LHAVE THESO LEPOW ERTOT RYALL IMPEA CHMEN TSWHE NSITT INGFO RTHAT PURPO SETHE YSHAL LBEON OATHO RAFFI RMATI ONWHE NTHEP RESID ENTOF THEUN ITEDS TATES ISTRI EDTHE CHIEF JUSTI CESHA LLPRE SIDEA NDNOP ERSON SHALL BECON VICTE DWITH OUTTH ECONC URREN CEOFT WOTHI RDSOF THEME MBERS PRESE NTJUD GMENT INCAS ESOFI MPEAC HMENT SHALL NOTEX TENDF URTHE RTHAN TOREM OVALF ROMOF FICEA NDDIS QUALI FICAT IONTO HOLDA NDENJ OYANY OFFIC EOFHO NORTR USTOR PROFI TUNDE RTHEU NITED STATE SBUTT HEPAR TYCON VICTE DSHAL LNEVE RTHEL ESSBE LIABL EANDS UBJEC TTOIN DICTM ENTTR IALJU DGMEN TANDP UNISH MENTA CCORD INGTO LAWSE CTION ELECT IONST HETIM ESPLA CESAN DMANN EROFH OLDIN GELEC TIONS FORSE NATOR SANDR EPRES ENTAT IVESS HALLB EPRES CRIBE DINEA CHSTA TEBYT HELEG ISLAT URETH EREOF BUTTH ECONG RESSM AYATA NYTIM EBYLA WMAKE ORALT ERSUC HREGU LATIO NSEXC EPTAS TOTHE PLACE SOFCH USING SENAT ORSTH ECONG RESSS HALLA SSEMB LEATL EASTO NCEIN EVERY YEARA NDSUC HMEET INGSH ALLBE ONTHE FIRST MONDA YINDE CEMBE RUNLE SSTHE YSHAL LBYLA WAPPO INTAD IFFER ENTDA YSECT IONPO WERSA NDDUT IESOF CONGR ESSEA CHHOU SESHA LLBET HEJUD GEOFT HEELE CTION SRETU RNSAN DQUAL IFICA TIONS OFITS OWNME MBERS ANDAM AJORI TYOFE ACHSH ALLCO NSTIT UTEAQ UORUM TODOB USINE SSBUT ASMAL LERNU MBERM AYADJ OURNF ROMDA YTODA YANDM AYBEA UTHOR IZEDT OCOMP ELTHE ATTEN DANCE OFABS ENTME MBERS INSUC HMANN ERAND UNDER SUCHP ENALT IESAS EACHH OUSEM AYPRO VIDEE ACHHO USEMA YDETE RMINE THERU LESOF ITSPR OCEED INGSP UNISH ITSME MBERS FORDI SORDE RLYBE HAVIO URAND WITHT HECON CURRE NCEOF TWOTH IRDSE XPELA MEMBE REACH HOUSE SHALL KEEPA JOURN ALOFI TSPRO CEEDI NGSAN DFROM TIMET OTIME PUBLI SHTHE SAMEE XCEPT INGSU CHPAR TSASM AYINT HEIRJ UDGME NTREQ UIRES ECREC YANDT HEYEA SANDN AYSOF THEME MBERS OFEIT HERHO USEON ANYQU ESTIO NSHAL LATTH EDESI REOFO NEFIF THOFT HOSEP RESEN TBEEN TERED ONTHE JOURN ALNEI THERH OUSED URING THESE SSION OFCON GRESS SHALL WITHO UTTHE CONSE NTOFT HEOTH ERADJ OURNF ORMOR ETHAN THREE DAYSN ORTOA NYOTH ERPLA CETHA NTHAT INWHI CHTHE TWOHO USESS HALLB ESITT INGSE CTION RIGHT SANDD ISABI LITIE SOFME MBERS THESE NATOR SANDR EPRES ENTAT IVESS HALLR ECEIV EACOM PENSA TIONF ORTHE IRSER VICES TOBEA SCERT AINED BYLAW ANDPA IDOUT OFTHE TREAS URYOF THEUN ITEDS TATES THEYS HALLI NALLC ASESE XCEPT TREAS ONFEL ONYAN DBREA CHOFT HEPEA CEBEP RIVIL EGEDF ROMAR RESTD URING THEIR ATTEN DANCE ATTHE SESSI ONOFT HEIRR ESPEC TIVEH OUSES ANDIN GOING TOAND RETUR NINGF ROMTH ESAME ANDFO RANYS PEECH ORDEB ATEIN EITHE RHOUS ETHEY SHALL NOTBE QUEST IONED INANY OTHER PLACE NOSEN ATORO RREPR ESENT ATIVE SHALL DURIN GTHET IMEFO RWHIC HHEWA SELEC TEDBE APPOI NTEDT OANYC IVILO FFICE UNDER THEAU THORI TYOFT HEUNI TEDST ATESW HICHS HALLH AVEBE ENCRE ATEDO RTHEE MOLUM ENTSW HEREO FSHAL LHAVE BEENE NCREA SEDDU RINGS UCHTI MEAND NOPER SONHO LDING ANYOF FICEU NDERT HEUNI TEDST ATESS HALLB EAMEM BEROF EITHE RHOUS EDURI NGHIS CONTI NUANC EINOF FICES ECTIO NLEGI SLATI VEPRO CESSA LLBIL LSFOR RAISI NGREV ENUES HALLO RIGIN ATEIN THEHO USEOF REPRE SENTA TIVES BUTTH ESENA TEMAY PROPO SEORC ONCUR WITHA MENDM ENTSA SONOT HERBI LLSEV ERYBI LLWHI CHSHA LLHAV EPASS EDTHE HOUSE OFREP RESEN TATIV ESAND THESE NATES HALLB EFORE ITBEC OMEAL AWBEP RESEN TEDTO THEPR ESIDE NTOFT HEUNI TEDST ATESI FHEAP PROVE HESHA LLSIG NITBU TIFNO THESH ALLRE TURNI TWITH HISOB JECTI ONSTO THATH OUSEI NWHIC HITSH ALLHA VEORI GINAT EDWHO SHALL ENTER THEOB JECTI ONSAT LARGE ONTHE IRJOU RNALA NDPRO CEEDT ORECO NSIDE RITIF AFTER SUCHR ECONS IDERA TIONT WOTHI RDSOF THATH OUSES HALLA GREET OPASS THEBI LLITS HALLB ESENT TOGET HERWI THTHE OBJEC TIONS TOTHE OTHER HOUSE BYWHI CHITS HALLL IKEWI SEBER ECONS IDERE DANDI FAPPR OVEDB YTWOT HIRDS OFTHA THOUS EITSH ALLBE COMEA LAWBU TINAL LSUCH CASES THEVO TESOF BOTHH OUSES SHALL BEDET ERMIN EDBYY EASAN DNAYS ANDTH ENAME SOFTH EPERS ONSVO TINGF ORAND AGAIN STTHE BILLS HALLB EENTE REDON THEJO URNAL OFEAC HHOUS ERESP ECTIV ELYIF ANYBI LLSHA LLNOT BERET URNED BYTHE PRESI DENTW ITHIN TENDA YSSUN DAYSE XCEPT EDAFT ERITS HALLH AVEBE ENPRE SENTE DTOHI MTHES AMESH ALLBE ALAWI NLIKE MANNE RASIF HEHAD SIGNE DITUN LESST HECON GRESS BYTHE IRADJ OURNM ENTPR EVENT ITSRE TURNI NWHIC HCASE ITSHA LLNOT BEALA WEVER YORDE RRESO LUTIO NORVO TETOW HICHT HECON CURRE NCEOF THESE NATEA NDHOU SEOFR EPRES ENTAT IVESM AYBEN ECESS ARYEX CEPTO NAQUE STION OFADJ OURNM ENTSH ALLBE PRESE NTEDT OTHEP RESID ENTOF THEUN ITEDS TATES ANDBE FORET HESAM ESHAL LTAKE EFFEC TSHAL LBEAP PROVE DBYHI MORBE INGDI SAPPR OVEDB YHIMS HALLB EREPA SSEDB YTWOT HIRDS OFTHE SENAT EANDH OUSEO FREPR ESENT ATIVE SACCO RDING TOTHE RULES ANDLI MITAT IONSP RESCR IBEDI NTHEC ASEOF ABILL SECTI ONPOW ERSOF CONGR ESSTH ECONG RESSS HALLH AVEPO WERTO LAYAN DCOLL ECTTA XESDU TIESI MPOST SANDE XCISE STOPA YTHED EBTSA NDPRO VIDEF ORTHE COMMO NDEFE NCEAN DGENE RALWE LFARE OFTHE UNITE DSTAT ESBUT ALLDU TIESI MPOST SANDE XCISE SSHAL LBEUN IFORM THROU GHOUT THEUN ITEDS TATES TOBOR ROWMO NEYON THECR EDITO FTHEU NITED STATE STORE GULAT ECOMM ERCEW ITHFO REIGN NATIO NSAND AMONG THESE VERAL STATE SANDW ITHTH EINDI ANTRI BESTO ESTAB LISHA UNIFO RMRUL EOFNA TURAL IZATI ONAND UNIFO RMLAW SONTH ESUBJ ECTOF BANKR UPTCI ESTHR OUGHO UTTHE UNITE DSTAT ESTOC OINMO NEYRE GULAT ETHEV ALUET HEREO FANDO FFORE IGNCO INAND FIXTH ESTAN DARDO FWEIG HTSAN DMEAS UREST OPROV IDEFO RTHEP UNISH MENTO FCOUN TERFE ITING THESE CURIT IESAN DCURR ENTCO INOFT HEUNI TEDST ATEST OESTA BLISH POSTO FFICE SANDP OSTRO ADSTO PROMO TETHE PROGR ESSOF SCIEN CEAND USEFU LARTS BYSEC URING FORLI MITED TIMES TOAUT HORSA NDINV ENTOR STHEE XCLUS IVERI GHTTO THEIR RESPE CTIVE WRITI NGSAN DDISC OVERI ESTOC ONSTI TUTET RIBUN ALSIN FERIO RTOTH ESUPR EMECO URTTO DEFIN EANDP UNISH PIRAC IESAN DFELO NIESC OMMIT TEDON THEHI GHSEA SANDO FFENS ESAGA INSTT HELAW OFNAT IONST ODECL AREWA RGRAN TLETT ERSOF MARQU EANDR EPRIS ALAND MAKER ULESC ONCER NINGC APTUR ESONL ANDAN DWATE RTORA ISEAN DSUPP ORTAR MIESB UTNOA PPROP RIATI ONOFM ONEYT OTHAT USESH ALLBE FORAL ONGER TERMT HANTW OYEAR STOPR OVIDE ANDMA INTAI NANAV YTOMA KERUL ESFOR THEGO VERNM ENTAN DREGU LATIO NOFTH ELAND ANDNA VALFO RCEST OPROV IDEFO RCALL INGFO RTHTH EMILI TIATO EXECU TETHE LAWSO FTHEU NIONS UPPRE SSINS URREC TIONS ANDRE PELIN VASIO NSTOP ROVID EFORO RGANI ZINGA RMING ANDDI SCIPL INING THEMI LITIA ANDFO RGOVE RNING SUCHP ARTOF THEMA SMAYB EEMPL OYEDI NTHES ERVIC EOFTH EUNIT EDSTA TESRE SERVI NGTOT HESTA TESRE SPECT IVELY THEAP POINT MENTO FTHEO FFICE RSAND THEAU THORI TYOFT RAINI NGTHE MILIT IAACC ORDIN GTOTH EDISC IPLIN EPRES CRIBE DBYCO NGRES STOEX ERCIS EEXCL USIVE LEGIS LATIO NINAL LCASE SWHAT SOEVE ROVER SUCHD ISTRI CTNOT EXCEE DINGT ENMIL ESSQU AREAS MAYBY CESSI ONOFP ARTIC ULARS TATES ANDTH EACCE PTANC EOFCO NGRES SBECO METHE SEATO FTHEG OVERN MENTO FTHEU NITED STATE SANDT OEXER CISEL IKEAU THORI TYOVE RALLP LACES PURCH ASEDB YTHEC ONSEN TOFTH ELEGI SLATU REOFT HESTA TEINW HICHT HESAM ESHAL LBEFO RTHEE RECTI ONOFF ORTSM AGAZI NESAR SENAL SDOCK YARDS ANDOT HERNE EDFUL BUILD INGSA NDTOM AKEAL LLAWS WHICH SHALL BENEC ESSAR YANDP ROPER FORCA RRYIN GINTO EXECU TIONT HEFOR EGOIN GPOWE RSAND ALLOT HERPO WERSV ESTED BYTHI SCONS TITUT IONIN THEGO VERNM ENTOF THEUN ITEDS TATES ORINA NYDEP ARTME NTORO FFICE RTHER EOFSE CTION POWER SDENI EDCON GRESS THEMI GRATI ONORI MPORT ATION OFSUC HPERS ONSAS ANYOF THEST ATESN OWEXI STING SHALL THINK PROPE RTOAD MITSH ALLNO TBEPR OHIBI TEDBY THECO NGRES SPRIO RTOTH EYEAR ONETH OUSAN DEIGH THUND REDAN DEIGH TBUTA TAXOR DUTYM AYBEI MPOSE DONSU CHIMP ORTAT IONNO TEXCE EDING TENDO LLARS FOREA CHPER SONTH EPRIV ILEGE OFTHE WRITO FHABE ASCOR PUSSH ALLNO TBESU SPEND EDUNL ESSWH ENINC ASESO FREBE LLION ORINV ASION THEPU BLICS AFETY MAYRE QUIRE ITNOB ILLOF ATTAI NDERO REXPO STFAC TOLAW SHALL BEPAS SEDNO CAPIT ATION OROTH ERDIR ECTTA XSHAL LBELA IDUNL ESSIN PROPO RTION TOTHE CENSU SOREN UMERA TIONH EREIN BEFOR EDIRE CTEDT OBETA KENNO TAXOR DUTYS HALLB ELAID ONART ICLES EXPOR TEDFR OMANY STATE NOPRE FEREN CESHA LLBEG IVENB YANYR EGULA TIONO FCOMM ERCEO RREVE NUETO THEPO RTSOF ONEST ATEOV ERTHO SEOFA NOTHE RNORS HALLV ESSEL SBOUN DTOOR FROMO NESTA TEBEO BLIGE DTOEN TERCL EAROR PAYDU TIESI NANOT HERNO MONEY SHALL BEDRA WNFRO MTHET REASU RYBUT INCON SEQUE NCEOF APPRO PRIAT IONSM ADEBY LAWAN DAREG ULARS TATEM ENTAN DACCO UNTOF THERE CEIPT SANDE XPEND ITURE SOFAL LPUBL ICMON EYSHA LLBEP UBLIS HEDFR OMTIM ETOTI MENOT ITLEO FNOBI LITYS HALLB EGRAN TEDBY THEUN ITEDS TATES ANDNO PERSO NHOLD INGAN YOFFI CEOFP ROFIT ORTRU STUND ERTHE MSHAL LWITH OUTTH ECONS ENTOF THECO NGRES SACCE PTOFA NYPRE SENTE MOLUM ENTOF FICEO RTITL EOFAN YKIND WHATE VERFR OMANY KINGP RINCE ORFOR EIGNS TATES ECTIO NPOWE RSDEN IEDTO THEST ATESN OSTAT ESHAL LENTE RINTO ANYTR EATYA LLIAN CEORC ONFED ERATI ONGRA NTLET TERSO FMARQ UEAND REPRI SALCO INMON EYEMI TBILL SOFCR EDITM AKEAN YTHIN GBUTG OLDAN DSILV ERCOI NATEN DERIN PAYME NTOFD EBTSP ASSAN YBILL OFATT AINDE REXPO STFAC TOLAW ORLAW IMPAI RINGT HEOBL IGATI ONOFC ONTRA CTSOR GRANT ANYTI TLEOF NOBIL ITYNO STATE SHALL WITHO UTTHE CONSE NTOFT HECON GRESS LAYAN YIMPO STSOR DUTIE SONIM PORTS OREXP ORTSE XCEPT WHATM AYBEA BSOLU TELYN ECESS ARYFO REXEC UTING ITSIN SPECT IONLA WSAND THENE TPROD UCEOF ALLDU TIESA NDIMP OSTSL AIDBY ANYST ATEON IMPOR TSORE XPORT SSHAL LBEFO RTHEU SEOFT HETRE ASURY OFTHE UNITE DSTAT ESAND ALLSU CHLAW SSHAL LBESU BJECT TOTHE REVIS IONAN DCONT ROULO FTHEC ONGRE SSNOS TATES HALLW ITHOU TTHEC ONSEN TOFCO NGRES SLAYA NYDUT YOFTO NNAGE KEEPT ROOPS ORSHI PSOFW ARINT IMEOF PEACE ENTER INTOA NYAGR EEMEN TORCO MPACT WITHA NOTHE RSTAT EORWI THAFO REIGN POWER ORENG AGEIN WARUN LESSA CTUAL LYINV ADEDO RINSU CHIMM INENT DANGE RASWI LLNOT ADMIT OFDEL AY\n"
     ]
    }
   ],
   "source": [
    "machine.set_wheels(\"ABC\")\n",
    "print(machine.parse(encrypted_Message))"
   ]
  },
  {
   "cell_type": "code",
   "execution_count": null,
   "metadata": {},
   "outputs": [],
   "source": []
  }
 ],
 "metadata": {
  "interpreter": {
   "hash": "916dbcbb3f70747c44a77c7bcd40155683ae19c65e1c03b4aa3499c5328201f1"
  },
  "kernelspec": {
   "display_name": "Python 3.8.10 64-bit",
   "language": "python",
   "name": "python3"
  },
  "language_info": {
   "codemirror_mode": {
    "name": "ipython",
    "version": 3
   },
   "file_extension": ".py",
   "mimetype": "text/x-python",
   "name": "python",
   "nbconvert_exporter": "python",
   "pygments_lexer": "ipython3",
   "version": "3.8.10"
  },
  "orig_nbformat": 4
 },
 "nbformat": 4,
 "nbformat_minor": 2
}
