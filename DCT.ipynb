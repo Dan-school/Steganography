{
 "cells": [
  {
   "cell_type": "code",
   "execution_count": 5,
   "metadata": {},
   "outputs": [],
   "source": [
    "import cv2\n",
    "import numpy as np\n",
    "import itertools\n",
    "import matplotlib.pyplot as plt\n",
    "from PIL import Image\n",
    "from pathlib import Path"
   ]
  },
  {
   "cell_type": "code",
   "execution_count": 6,
   "metadata": {},
   "outputs": [],
   "source": [
    "quant = np.array([[16,11,10,16,24,40,51,61],      # QUANTIZATION TABLE\n",
    "                    [12,12,14,19,26,58,60,55],    # required for DCT\n",
    "                    [14,13,16,24,40,57,69,56],\n",
    "                    [14,17,22,29,51,87,80,62],\n",
    "                    [18,22,37,56,68,109,103,77],\n",
    "                    [24,35,55,64,81,104,113,92],\n",
    "                    [49,64,78,87,103,121,120,101],\n",
    "                    [72,92,95,98,112,100,103,99]])"
   ]
  },
  {
   "cell_type": "code",
   "execution_count": 7,
   "metadata": {},
   "outputs": [],
   "source": [
    "class DCT():    \n",
    "    def __init__(self): # Constructor\n",
    "        self.message = None\n",
    "        self.bitMess = None\n",
    "        self.oriCol = 0\n",
    "        self.oriRow = 0\n",
    "        self.numBits = 0   \n",
    "    #encoding part : \n",
    "    def encode_image(self,img,message):\n",
    "        #get length of message\n",
    "        self.message = str(len(message))+'*'+message\n",
    "        self.bitMess = self.toBits()\n",
    "        #get size of image in pixels\n",
    "        row,col = img.shape[:2]\n",
    "        ##col, row = img.size\n",
    "        self.oriRow, self.oriCol = row, col \n",
    "\n",
    "        if((col/8)*(row/8)<len(message)):\n",
    "            print(\"Error: Message too large to encode in image\")\n",
    "            return False\n",
    "        #make divisible by 8x8\n",
    "        if row%8 != 0 or col%8 != 0:\n",
    "            img = self.addPadd(img, row, col)\n",
    "        \n",
    "        row,col = img.shape[:2]\n",
    "        ##col, row = img.size\n",
    "        #split image into RGB channels\n",
    "        bImg,gImg,rImg = cv2.split(img)\n",
    "        #message to be hid in blue channel so converted to type float32 for dct function\n",
    "        bImg = np.float32(bImg)\n",
    "        #break into 8x8 blocks\n",
    "        imgBlocks = [np.round(bImg[j:j+8, i:i+8]-128) for (j,i) in itertools.product(range(0,row,8),\n",
    "                                                                       range(0,col,8))]\n",
    "        #Blocks are run through DCT function\n",
    "        dctBlocks = [np.round(cv2.dct(img_Block)) for img_Block in imgBlocks]\n",
    "        #blocks then run through quantization table\n",
    "        quantizedDCT = [np.round(dct_Block/quant) for dct_Block in dctBlocks]\n",
    "        #set LSB in DC value corresponding bit of message\n",
    "        messIndex = 0\n",
    "        letterIndex = 0\n",
    "        for quantizedBlock in quantizedDCT:\n",
    "            #find LSB in DC coeff and replace with message bit\n",
    "            DC = quantizedBlock[0][0]\n",
    "            DC = np.uint8(DC)\n",
    "            DC = np.unpackbits(DC)\n",
    "            DC[7] = self.bitMess[messIndex][letterIndex]\n",
    "            DC = np.packbits(DC)\n",
    "            DC = np.float32(DC)\n",
    "            DC= DC-255\n",
    "            quantizedBlock[0][0] = DC\n",
    "            letterIndex = letterIndex+1\n",
    "            if letterIndex == 8:\n",
    "                letterIndex = 0\n",
    "                messIndex = messIndex + 1\n",
    "                if messIndex == len(self.message):\n",
    "                    break\n",
    "        #blocks run inversely through quantization table\n",
    "        sImgBlocks = [quantizedBlock *quant+128 for quantizedBlock in quantizedDCT]\n",
    "        #blocks run through inverse DCT\n",
    "        #sImgBlocks = [cv2.idct(B)+128 for B in quantizedDCT]\n",
    "        #puts the new image back together\n",
    "        sImg=[]\n",
    "        for chunkRowBlocks in self.chunks(sImgBlocks, col/8):\n",
    "            for rowBlockNum in range(8):\n",
    "                for block in chunkRowBlocks:\n",
    "                    sImg.extend(block[rowBlockNum])\n",
    "        sImg = np.array(sImg).reshape(row, col)\n",
    "        #converted from type float32\n",
    "        sImg = np.uint8(sImg)\n",
    "        #show(sImg)\n",
    "        sImg = cv2.merge((sImg,gImg,rImg))\n",
    "        return sImg\n",
    "\n",
    "    def decode_image(self,img):\n",
    "        row,col = img.shape[:2]\n",
    "        messSize = None\n",
    "        messageBits = []\n",
    "        buff = 0\n",
    "        #split image into RGB channels\n",
    "        bImg,gImg,rImg = cv2.split(img)\n",
    "         #message hid in blue channel so converted to type float32 for dct function\n",
    "        bImg = np.float32(bImg)\n",
    "        #break into 8x8 blocks\n",
    "        imgBlocks = [bImg[j:j+8, i:i+8]-128 for (j,i) in itertools.product(range(0,row,8),\n",
    "                                                                       range(0,col,8))]    \n",
    "        #blocks run through quantization table\n",
    "        #quantizedDCT = [dct_Block/ (quant) for dct_Block in dctBlocks]\n",
    "        quantizedDCT = [img_Block/quant for img_Block in imgBlocks]\n",
    "        i=0\n",
    "        #message extracted from LSB of DC coeff\n",
    "        for quantizedBlock in quantizedDCT:\n",
    "            DC = quantizedBlock[0][0]\n",
    "            DC = np.uint8(DC)\n",
    "            DC = np.unpackbits(DC)\n",
    "            if DC[7] == 1:\n",
    "                buff+=(0 & 1) << (7-i)\n",
    "            elif DC[7] == 0:\n",
    "                buff+=(1&1) << (7-i)\n",
    "            i=1+i\n",
    "            if i == 8:\n",
    "                messageBits.append(chr(buff))\n",
    "                buff = 0\n",
    "                i =0\n",
    "                if messageBits[-1] == '*' and messSize is None:\n",
    "                    try:\n",
    "                        messSize = int(''.join(messageBits[:-1]))\n",
    "                    except:\n",
    "                        pass\n",
    "            if len(messageBits) - len(str(messSize)) - 1 == messSize:\n",
    "                return ''.join(messageBits)[len(str(messSize))+1:]\n",
    "        return ''\n",
    "    \n",
    "\n",
    "    def chunks(self, l, n):\n",
    "        m = int(n)\n",
    "        for i in range(0, len(l), m):\n",
    "            yield l[i:i + m]\n",
    "    def addPadd(self,img, row, col):\n",
    "        img = cv2.resize(img,(col+(8-col%8),row+(8-row%8)))    \n",
    "        return img\n",
    "    def toBits(self):\n",
    "        bits = []\n",
    "        for char in self.message:\n",
    "            binval = bin(ord(char))[2:].rjust(8,'0')\n",
    "            bits.append(binval)\n",
    "        self.numBits = bin(len(bits))[2:].rjust(8,'0')\n",
    "        return bits"
   ]
  },
  {
   "cell_type": "code",
   "execution_count": 10,
   "metadata": {},
   "outputs": [],
   "source": [
    "image = cv2.imread('startImages/IMG_4279.JPG')\n",
    "hiddenMessage = open('ThingsToHide/test.txt', 'r').read()\n",
    "# hiddenMessage"
   ]
  },
  {
   "cell_type": "code",
   "execution_count": 14,
   "metadata": {},
   "outputs": [
    {
     "data": {
      "text/plain": [
       "True"
      ]
     },
     "execution_count": 14,
     "metadata": {},
     "output_type": "execute_result"
    }
   ],
   "source": [
    "dctNoEncryptio = DCT().encode_image(image, hiddenMessage)\n",
    "cv2.imwrite('dctTest.png', dctNoEncryptio)"
   ]
  },
  {
   "cell_type": "code",
   "execution_count": 15,
   "metadata": {},
   "outputs": [],
   "source": [
    "#open image\n",
    "dctEncodedNoEncryption = cv2.imread('dctTest.png')"
   ]
  },
  {
   "cell_type": "code",
   "execution_count": 18,
   "metadata": {},
   "outputs": [],
   "source": [
    "decodedMessage = DCT().decode_image(dctEncodedNoEncryption)\n",
    "#save decoded message\n",
    "with open('DCT_decodedMessage_Without_Encryption.txt', 'w') as f:\n",
    "    f.write(decodedMessage)\n"
   ]
  },
  {
   "cell_type": "code",
   "execution_count": null,
   "metadata": {},
   "outputs": [],
   "source": []
  }
 ],
 "metadata": {
  "interpreter": {
   "hash": "916dbcbb3f70747c44a77c7bcd40155683ae19c65e1c03b4aa3499c5328201f1"
  },
  "kernelspec": {
   "display_name": "Python 3.8.10 64-bit",
   "language": "python",
   "name": "python3"
  },
  "language_info": {
   "codemirror_mode": {
    "name": "ipython",
    "version": 3
   },
   "file_extension": ".py",
   "mimetype": "text/x-python",
   "name": "python",
   "nbconvert_exporter": "python",
   "pygments_lexer": "ipython3",
   "version": "3.8.10"
  },
  "orig_nbformat": 4
 },
 "nbformat": 4,
 "nbformat_minor": 2
}
