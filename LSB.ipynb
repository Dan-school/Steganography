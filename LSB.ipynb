{
 "cells": [
  {
   "cell_type": "code",
   "execution_count": 1,
   "metadata": {},
   "outputs": [],
   "source": [
    "from PIL import Image\n",
    "from Cryptodome.Cipher import AES\n",
    "# from pycryto.Cipher import AES\n",
    "# from Crypto.Util.Padding import pad, unpad\n",
    "from Cryptodome.Random import get_random_bytes\n",
    "from Cryptodome.Util.Padding import pad, unpad"
   ]
  },
  {
   "cell_type": "code",
   "execution_count": 2,
   "metadata": {},
   "outputs": [],
   "source": [
    "def string_to_binary(message):\n",
    "    encodeM = str(message).encode()\n",
    "    bin_int = int.from_bytes(encodeM, 'big')\n",
    "    bin_string = bin(bin_int)[2:]\n",
    "    return \"0\" + bin_string"
   ]
  },
  {
   "cell_type": "code",
   "execution_count": 3,
   "metadata": {},
   "outputs": [],
   "source": [
    "def implant_message(pixels, binString):\n",
    "    # loop through each pixel\n",
    "    for i in range(len(pixels)):\n",
    "        for j in range(len(pixels[i])):\n",
    "            if (binString == ''):\n",
    "                return pixels\n",
    "            # get the pixel value this is in binary already\n",
    "            pixel = pixels[i][j]\n",
    "            # print(pixel)\n",
    "            # get first two characters of binString to be implanted into pixel\n",
    "            binStringC = binString[:2]\n",
    "            # remove first two characters of binString to the message will be eaten while looping\n",
    "            binString = binString[2:]\n",
    "            # get the first 6 character of binC then add the two bits of binStringC to the end\n",
    "            pixel = pixel[:6] + binStringC\n",
    "            #set the new pixel value\n",
    "            pixels[i][j] = pixel\n",
    "    # return pixels\n",
    "\n",
    "# def implant_message(pixels, binString):\n",
    "#     # loop through each pixel\n",
    "#     length = len(binString)\n",
    "    \n",
    "#     for i in range(len(pixels)):\n",
    "#         # if(binString == \"\"):\n",
    "#         #     print\n",
    "#         #     return pixels\n",
    "\n",
    "#         for j in range(len(pixels[i])):\n",
    "#             if (binString == ''):\n",
    "#                 # print(\"MESSAGE IMPLANTED\")\n",
    "#                 break\n",
    "#             # if(len(binString) == length * .75):\n",
    "#             #     print(\"25\")\n",
    "#             # if(len(binString) == length * .5):\n",
    "#             #     print(\"50\")\n",
    "#             # if(len(binString) == length * 0.25):\n",
    "#             #     print(\"75\")\n",
    "#             # get the pixel value this is in binary already\n",
    "#             pixel = pixels[i][j]\n",
    "#             # print(pixel)\n",
    "#             # get first two characters of binString to be implanted into pixel\n",
    "#             binStringC = binString[:2]\n",
    "#             # remove first two characters of binString to the message will be eaten while looping\n",
    "#             binString = binString[2:]\n",
    "#             # get the first 6 character of binC then add the two bits of binStringC to the end\n",
    "#             pixel = pixel[:6] + binStringC\n",
    "#             #set the new pixel value\n",
    "#             pixels[i][j] = pixel\n",
    "#     return pixels\n",
    " \n",
    "                "
   ]
  },
  {
   "cell_type": "code",
   "execution_count": 4,
   "metadata": {},
   "outputs": [],
   "source": [
    "# def retrieve_message(pixels):\n",
    "#     # create empty list of binary values\n",
    "#     binList = []\n",
    "#     # loop through each pixel\n",
    "#     for i in range(len(pixels)):\n",
    "#         for j in range(len(pixels[i])):\n",
    "#             # get the pixel value\n",
    "#             pixel = pixels[i][j]\n",
    "#             # print(pixel)\n",
    "#             # get the last 2 characters of pixel\n",
    "#             binC = pixel[-2:]\n",
    "#             # add the the bits to the list\n",
    "#             binList.append(binC)\n",
    "#     l = ''.join(binList)\n",
    "#     return l"
   ]
  },
  {
   "cell_type": "code",
   "execution_count": 5,
   "metadata": {},
   "outputs": [],
   "source": [
    "# def return_message(msg):\n",
    "#     test = [msg[i:i+8] for i in range(0, len(msg), 8)]\n",
    "#     # newArray = np.zeros((len(test), len(test[0]), 3), dtype=np.uint8)\n",
    "#     apple = \"\"\n",
    "#     for t in test:\n",
    "#         apple += chr(int(t, 2))\n",
    "#         # chr(int(t, 2)), end=\"\"\n",
    "#     return apple"
   ]
  },
  {
   "cell_type": "code",
   "execution_count": 15,
   "metadata": {},
   "outputs": [],
   "source": [
    "def get_message(pixelsWithMessage):\n",
    "    binaryPixels = [list(bin(p)[2:].rjust(8,'0') for p in pixel) for pixel in pixelsWithMessage]\n",
    "    binPixels = [list(pixel[-2:] for pixel in pixel) for pixel in binaryPixels]\n",
    "    # binPixels\n",
    "    # iterate through each binPixels and concatenate them into a string\n",
    "    binString = ''.join([''.join(pixel) for pixel in binPixels])\n",
    "    #split into 8 bit chunks\n",
    "    binString = [binString[i:i+8] for i in range(0, len(binString), 8)]\n",
    "    # print(binString)\n",
    "\n",
    "    # iterate through each binString and convert to int\n",
    "    binString = [int(b, 2) for b in binString]\n",
    "    # binString\n",
    "    # turn ascii numbers to ascii characters\n",
    "    binString = [chr(b) for b in binString]\n",
    "\n",
    "    binString = ''.join(binString)\n",
    "    return binString"
   ]
  },
  {
   "cell_type": "code",
   "execution_count": 7,
   "metadata": {},
   "outputs": [],
   "source": [
    "def binary_to_string(binString):\n",
    "    binary_int = int(binString, 2)  \n",
    "    byte_number = binary_int.bit_length() + 7 // 8\n",
    "    binary_array = binary_int.to_bytes(byte_number, \"big\")\n",
    "    ascii_text = binary_array.decode()\n",
    "    return ascii_text\n",
    "\n",
    "# def binary_to_string(binString):\n",
    "#     # get the last 2 bits of each channel of each pixel in binartPixels\n",
    "#     # binPixels = [list(pixel[-2:] for pixel in pixel) for pixel in binaryPixels]\n",
    "#     # binPixels\n",
    "#     # iterate through each binPixels and concatenate them into a string\n",
    "#     binString = ''.join([''.join(pixel) for pixel in binPixels])\n",
    "#     #split into 8 bit chunks\n",
    "#     binString = [binString[i:i+8] for i in range(0, len(binString), 8)]\n",
    "#     # print(binString)\n",
    "\n",
    "#     # iterate through each binString and convert to int\n",
    "#     binString = [int(b, 2) for b in binString]\n",
    "#     # binString\n",
    "#     # turn ascii numbers to ascii characters\n",
    "#     binString = [chr(b) for b in binString]\n",
    "\n",
    "#     binString = ''.join(binString)\n",
    "#     return binString"
   ]
  },
  {
   "cell_type": "code",
   "execution_count": 8,
   "metadata": {},
   "outputs": [],
   "source": [
    "def canEncode(pixels, message):\n",
    "    LengthM = len(string_to_binary(message))\n",
    "    LengthP = len(pixels) *3 *2\n",
    "    print(\"message length: \", LengthM)\n",
    "    print(\"pixels length: \", LengthP)\n",
    "    if LengthM > LengthP:\n",
    "        return False, LengthM, LengthP\n",
    "    return True, LengthM, LengthP"
   ]
  },
  {
   "cell_type": "markdown",
   "metadata": {},
   "source": [
    "# Hide info and create photo"
   ]
  },
  {
   "cell_type": "code",
   "execution_count": 9,
   "metadata": {},
   "outputs": [],
   "source": [
    "def hide_Message(Photo1, hiddenMessage, photoName):\n",
    "    # turn txt file to binary\n",
    "    binMessage = string_to_binary(hiddenMessage)\n",
    "    # turn photo to pixel representation\n",
    "    pixels = Photo1.getdata()\n",
    "    # turn pixel representation into a list of lists\n",
    "    binaryPixels = [list(bin(p)[2:].rjust(8,'0') for p in pixel) for pixel in pixels]\n",
    "    # implant the message\n",
    "    newPhotoPixelsBinary = implant_message(binaryPixels, binMessage)\n",
    "    # turn the binary pixels back into rgb values\n",
    "    newPhotoPixels = [tuple(int(p,2) for p in pixel) for pixel in newPhotoPixelsBinary]\n",
    "    # turn the rgb values back into a photo\n",
    "    newPhoto = Image.new(\"RGB\", Photo1.size)\n",
    "    newPhoto.putdata(newPhotoPixels)\n",
    "    # save the photo\n",
    "    finalFilename = \".\".join([photoName, \"png\"])\n",
    "    newPhoto.save(finalFilename)\n",
    "\n"
   ]
  },
  {
   "cell_type": "markdown",
   "metadata": {},
   "source": [
    "# examples"
   ]
  },
  {
   "cell_type": "markdown",
   "metadata": {},
   "source": [
    "## no encyrption"
   ]
  },
  {
   "cell_type": "code",
   "execution_count": 16,
   "metadata": {},
   "outputs": [],
   "source": [
    "Photo1 = Image.open(\"startImages/Photo1.jpg\")\n",
    "Photo2 = Image.open('startImages/Photo2.jpg')\n",
    "\n",
    "hiddenMessage = open('ThingsToHide/test.txt', 'r').read()\n",
    "hiddenMessage = str(hiddenMessage)\n",
    "# testB = string_to_binary(hiddenMessage)"
   ]
  },
  {
   "cell_type": "code",
   "execution_count": 27,
   "metadata": {},
   "outputs": [
    {
     "name": "stdout",
     "output_type": "stream",
     "text": [
      "message length:  316144\n",
      "pixels length:  7588800\n"
     ]
    }
   ],
   "source": [
    "if canEncode(Photo1.getdata(), hiddenMessage):\n",
    "    hide_Message(Photo1, hiddenMessage, \"encodedImages/notEncypted\")"
   ]
  },
  {
   "cell_type": "code",
   "execution_count": 20,
   "metadata": {},
   "outputs": [],
   "source": [
    "notEncryptedMessage = Image.open('encodedImages/notEncypted.png')\n",
    "pixelsWithMessage = notEncryptedMessage.getdata()\n",
    "LBSMessage = get_message(pixelsWithMessage)\n",
    "# LBSMessage\n",
    "# save the message to a file\n",
    "with open('decodedMessages/LSBMessage_noEncryption.txt', 'w') as f:\n",
    "    f.write(LBSMessage)\n"
   ]
  },
  {
   "cell_type": "markdown",
   "metadata": {},
   "source": [
    "# with encryption"
   ]
  },
  {
   "cell_type": "code",
   "execution_count": 21,
   "metadata": {},
   "outputs": [],
   "source": [
    "Photo1 = Image.open(\"startImages/Photo1.jpg\")\n",
    "hiddenMessage = open('ThingsToHide/test.txt', 'r').read()\n",
    "hiddenMessage = str(hiddenMessage)"
   ]
  },
  {
   "cell_type": "code",
   "execution_count": 22,
   "metadata": {},
   "outputs": [
    {
     "name": "stdout",
     "output_type": "stream",
     "text": [
      " this is the key:  b'L\\xe4\\x8ey\\x9d\\xd9>\\x85\\xec\\xfe\\xd4W\\xf2\\xf1\\x83~'\n"
     ]
    }
   ],
   "source": [
    "#this works can not decrpyt from it\n",
    "data = bytes(hiddenMessage, 'utf-8')\n",
    "key = get_random_bytes(16)\n",
    "print(\" this is the key: \", key)\n",
    "cipher = AES.new(key, AES.MODE_ECB)\n",
    "padded = pad(data, AES.block_size)\n",
    "padded\n",
    "ciphertext= cipher.encrypt(padded)"
   ]
  },
  {
   "cell_type": "markdown",
   "metadata": {},
   "source": [
    "test to make sure decrypts correctly"
   ]
  },
  {
   "cell_type": "code",
   "execution_count": 23,
   "metadata": {},
   "outputs": [],
   "source": [
    "decipher = AES.new(key, AES.MODE_ECB)\n",
    "decrypted_test = unpad(decipher.decrypt(ciphertext), 16)\n",
    "# print(decrypted_test)"
   ]
  },
  {
   "cell_type": "code",
   "execution_count": 28,
   "metadata": {},
   "outputs": [
    {
     "name": "stdout",
     "output_type": "stream",
     "text": [
      "message length:  316144\n",
      "pixels length:  7588800\n"
     ]
    }
   ],
   "source": [
    "# hide the message in the photo\n",
    "if canEncode(Photo1.getdata(), ciphertext):\n",
    "    hide_Message(Photo1, ciphertext, \"encodedImages/encrypted\")"
   ]
  },
  {
   "cell_type": "code",
   "execution_count": 29,
   "metadata": {},
   "outputs": [],
   "source": [
    "hiddenImgEncrypted = Image.open('encodedImages/encrypted.png')\n",
    "pixelsWithMessageEncrypted = hiddenImgEncrypted.getdata()"
   ]
  },
  {
   "cell_type": "code",
   "execution_count": 39,
   "metadata": {},
   "outputs": [
    {
     "data": {
      "text/plain": [
       "(109, 66, 60)"
      ]
     },
     "execution_count": 39,
     "metadata": {},
     "output_type": "execute_result"
    }
   ],
   "source": [
    "pixelsWithMessageEncrypted[0]"
   ]
  },
  {
   "cell_type": "code",
   "execution_count": 40,
   "metadata": {},
   "outputs": [],
   "source": [
    "encryptedMsg = get_message(pixelsWithMessageEncrypted)\n",
    "# encryptedMsg"
   ]
  },
  {
   "cell_type": "code",
   "execution_count": 41,
   "metadata": {},
   "outputs": [
    {
     "ename": "ValueError",
     "evalue": "Data must be aligned to block boundary in ECB mode",
     "output_type": "error",
     "traceback": [
      "\u001b[0;31m---------------------------------------------------------------------------\u001b[0m",
      "\u001b[0;31mValueError\u001b[0m                                Traceback (most recent call last)",
      "\u001b[0;32m/tmp/ipykernel_13162/2065677654.py\u001b[0m in \u001b[0;36m<module>\u001b[0;34m\u001b[0m\n\u001b[1;32m      1\u001b[0m \u001b[0mdecrypt_test\u001b[0m \u001b[0;34m=\u001b[0m \u001b[0mbytes\u001b[0m\u001b[0;34m(\u001b[0m\u001b[0mencryptedMsg\u001b[0m\u001b[0;34m,\u001b[0m \u001b[0;34m'utf-8'\u001b[0m\u001b[0;34m)\u001b[0m\u001b[0;34m\u001b[0m\u001b[0;34m\u001b[0m\u001b[0m\n\u001b[1;32m      2\u001b[0m \u001b[0mdecipher\u001b[0m \u001b[0;34m=\u001b[0m \u001b[0mAES\u001b[0m\u001b[0;34m.\u001b[0m\u001b[0mnew\u001b[0m\u001b[0;34m(\u001b[0m\u001b[0mkey\u001b[0m\u001b[0;34m,\u001b[0m \u001b[0mAES\u001b[0m\u001b[0;34m.\u001b[0m\u001b[0mMODE_ECB\u001b[0m\u001b[0;34m)\u001b[0m\u001b[0;34m\u001b[0m\u001b[0;34m\u001b[0m\u001b[0m\n\u001b[0;32m----> 3\u001b[0;31m \u001b[0mdecrypted_test\u001b[0m \u001b[0;34m=\u001b[0m \u001b[0munpad\u001b[0m\u001b[0;34m(\u001b[0m\u001b[0mdecipher\u001b[0m\u001b[0;34m.\u001b[0m\u001b[0mdecrypt\u001b[0m\u001b[0;34m(\u001b[0m\u001b[0mdecrypt_test\u001b[0m\u001b[0;34m)\u001b[0m\u001b[0;34m,\u001b[0m \u001b[0;36m16\u001b[0m\u001b[0;34m)\u001b[0m\u001b[0;34m\u001b[0m\u001b[0;34m\u001b[0m\u001b[0m\n\u001b[0m\u001b[1;32m      4\u001b[0m \u001b[0;31m# decrypted_test = decipher.decrypt(pad(encrypted_test,16))\u001b[0m\u001b[0;34m\u001b[0m\u001b[0;34m\u001b[0m\u001b[0;34m\u001b[0m\u001b[0m\n\u001b[1;32m      5\u001b[0m \u001b[0;31m# decrypted_test = unpad(decrypted_test, 16)\u001b[0m\u001b[0;34m\u001b[0m\u001b[0;34m\u001b[0m\u001b[0;34m\u001b[0m\u001b[0m\n",
      "\u001b[0;32m~/.local/lib/python3.8/site-packages/Cryptodome/Cipher/_mode_ecb.py\u001b[0m in \u001b[0;36mdecrypt\u001b[0;34m(self, ciphertext, output)\u001b[0m\n\u001b[1;32m    194\u001b[0m         \u001b[0;32mif\u001b[0m \u001b[0mresult\u001b[0m\u001b[0;34m:\u001b[0m\u001b[0;34m\u001b[0m\u001b[0;34m\u001b[0m\u001b[0m\n\u001b[1;32m    195\u001b[0m             \u001b[0;32mif\u001b[0m \u001b[0mresult\u001b[0m \u001b[0;34m==\u001b[0m \u001b[0;36m3\u001b[0m\u001b[0;34m:\u001b[0m\u001b[0;34m\u001b[0m\u001b[0;34m\u001b[0m\u001b[0m\n\u001b[0;32m--> 196\u001b[0;31m                 \u001b[0;32mraise\u001b[0m \u001b[0mValueError\u001b[0m\u001b[0;34m(\u001b[0m\u001b[0;34m\"Data must be aligned to block boundary in ECB mode\"\u001b[0m\u001b[0;34m)\u001b[0m\u001b[0;34m\u001b[0m\u001b[0;34m\u001b[0m\u001b[0m\n\u001b[0m\u001b[1;32m    197\u001b[0m             \u001b[0;32mraise\u001b[0m \u001b[0mValueError\u001b[0m\u001b[0;34m(\u001b[0m\u001b[0;34m\"Error %d while decrypting in ECB mode\"\u001b[0m \u001b[0;34m%\u001b[0m \u001b[0mresult\u001b[0m\u001b[0;34m)\u001b[0m\u001b[0;34m\u001b[0m\u001b[0;34m\u001b[0m\u001b[0m\n\u001b[1;32m    198\u001b[0m \u001b[0;34m\u001b[0m\u001b[0m\n",
      "\u001b[0;31mValueError\u001b[0m: Data must be aligned to block boundary in ECB mode"
     ]
    }
   ],
   "source": [
    "decrypt_test = bytes(encryptedMsg, 'utf-8')\n",
    "decipher = AES.new(key, AES.MODE_ECB)\n",
    "decrypted_test = unpad(decipher.decrypt(decrypt_test), 16)\n",
    "# decrypted_test = decipher.decrypt(pad(encrypted_test,16))\n",
    "# decrypted_test = unpad(decrypted_test, 16)\n",
    "# decrypted_test = decrypted_test.decode('utf-8')\n",
    "print(decrypted_test)"
   ]
  },
  {
   "cell_type": "markdown",
   "metadata": {},
   "source": [
    "pixelsWithEncryption[0][0]"
   ]
  },
  {
   "cell_type": "code",
   "execution_count": 118,
   "metadata": {},
   "outputs": [],
   "source": [
    "# def msg_encrypt(msg, cipher):\n",
    "#     if(len(msg)%16 != 0):\n",
    "#         msg = msg + \" \" * (16 - len(msg)%16)\n",
    "#     msg = msg.encode()\n",
    "#     crypt_msg = cipher.encrypt(msg)\n",
    "#     return crypt_msg\n",
    "# test"
   ]
  },
  {
   "cell_type": "code",
   "execution_count": 95,
   "metadata": {},
   "outputs": [],
   "source": [
    "# def msg_decrypt(msg, cipher):\n",
    "#     msg = cipher.decrypt(msg)\n",
    "#     # msg = msg.decode()\n",
    "#     return msg"
   ]
  },
  {
   "cell_type": "code",
   "execution_count": 72,
   "metadata": {},
   "outputs": [],
   "source": [
    "# key = get_random_bytes(16)\n",
    "# cipher = AES.new(key, AES.MODE_ECB)\n",
    "# encp_msg = msg_encrypt(hiddenMessage, cipher)"
   ]
  },
  {
   "cell_type": "code",
   "execution_count": 76,
   "metadata": {},
   "outputs": [
    {
     "data": {
      "text/plain": [
       "bytes"
      ]
     },
     "execution_count": 76,
     "metadata": {},
     "output_type": "execute_result"
    }
   ],
   "source": [
    "type(encp_msg)"
   ]
  },
  {
   "cell_type": "code",
   "execution_count": 32,
   "metadata": {},
   "outputs": [],
   "source": [
    "# test = cipher.decrypt(ciphertext)\n",
    "# print(test)"
   ]
  },
  {
   "cell_type": "code",
   "execution_count": 81,
   "metadata": {},
   "outputs": [
    {
     "name": "stdout",
     "output_type": "stream",
     "text": [
      "message length:  316048\n",
      "pixels length:  7588800\n"
     ]
    },
    {
     "data": {
      "text/plain": [
       "(True, 316048, 7588800)"
      ]
     },
     "execution_count": 81,
     "metadata": {},
     "output_type": "execute_result"
    }
   ],
   "source": [
    "# cast ciphertext to string\n",
    "# ciphertext = str(ciphertext)\n",
    "\n",
    "canEncode(Photo1.getdata(), ciphertext)"
   ]
  },
  {
   "cell_type": "code",
   "execution_count": 82,
   "metadata": {},
   "outputs": [],
   "source": [
    "hide_Message(Photo1, encp_msg, \"a\")"
   ]
  },
  {
   "cell_type": "code",
   "execution_count": 83,
   "metadata": {},
   "outputs": [],
   "source": [
    "hiddenMessagePhoto = Image.open('a.png')\n",
    "# x = retrieve_Message(hiddenMessagePhoto)\n",
    "# "
   ]
  },
  {
   "cell_type": "code",
   "execution_count": 61,
   "metadata": {},
   "outputs": [
    {
     "data": {
      "text/plain": [
       "b'\\xc3'"
      ]
     },
     "execution_count": 61,
     "metadata": {},
     "output_type": "execute_result"
    }
   ],
   "source": [
    "ciphertext[-1:]"
   ]
  },
  {
   "cell_type": "code",
   "execution_count": 87,
   "metadata": {},
   "outputs": [],
   "source": [
    "pixelsWithMessage = hiddenMessagePhoto.getdata()\n",
    "# turn pixel representation into a list of lists\n",
    "# binaryPixels = [list(bin(p)[2:].rjust(8,'0') for p in pixel) for pixel in pixelsWithMessage]\n",
    "\n",
    "test = get_message(pixelsWithMessage)\n",
    "\n",
    "# test"
   ]
  },
  {
   "cell_type": "code",
   "execution_count": 100,
   "metadata": {},
   "outputs": [
    {
     "ename": "ValueError",
     "evalue": "invalid literal for int() with base 2: b'\\xf0\\xecs\\xea,\\xa8\\x9fa\\x19\\xf7\\xb9\\xb9=\\x95`M\\n\\xe9r\\xd4\\xcb\\xc8\\xe0\\xf9\\xb3\\xa2\\x89\\x03[\\xb7T1\\xff\\xc1\\xef\\xe6g\"\\xf6\\x15\\x0ec\\x1cn]\\xc5c[\\xe6O\\x01\\xecGr\\xb2i\\xd6\\x05\\x97\\x7fb\\x95\\xed\\xfd0\\'\\xd8\\xe",
     "output_type": "error",
     "traceback": [
      "\u001b[0;31m---------------------------------------------------------------------------\u001b[0m",
      "\u001b[0;31mValueError\u001b[0m                                Traceback (most recent call last)",
      "\u001b[0;32m/tmp/ipykernel_2765/1388759633.py\u001b[0m in \u001b[0;36m<module>\u001b[0;34m\u001b[0m\n\u001b[1;32m      1\u001b[0m \u001b[0mlastHope\u001b[0m \u001b[0;34m=\u001b[0m \u001b[0mmsg_decrypt\u001b[0m\u001b[0;34m(\u001b[0m\u001b[0mpad\u001b[0m\u001b[0;34m(\u001b[0m\u001b[0mtest\u001b[0m\u001b[0;34m.\u001b[0m\u001b[0mencode\u001b[0m\u001b[0;34m(\u001b[0m\u001b[0;34m'utf-8'\u001b[0m\u001b[0;34m)\u001b[0m\u001b[0;34m,\u001b[0m \u001b[0;36m16\u001b[0m\u001b[0;34m)\u001b[0m\u001b[0;34m,\u001b[0m \u001b[0mcipher\u001b[0m\u001b[0;34m)\u001b[0m\u001b[0;34m\u001b[0m\u001b[0;34m\u001b[0m\u001b[0m\n\u001b[1;32m      2\u001b[0m \u001b[0mlastHope\u001b[0m\u001b[0;34m\u001b[0m\u001b[0;34m\u001b[0m\u001b[0m\n\u001b[0;32m----> 3\u001b[0;31m \u001b[0mmaybe\u001b[0m \u001b[0;34m=\u001b[0m \u001b[0mbinary_to_string\u001b[0m\u001b[0;34m(\u001b[0m\u001b[0mlastHope\u001b[0m\u001b[0;34m)\u001b[0m\u001b[0;34m\u001b[0m\u001b[0;34m\u001b[0m\u001b[0m\n\u001b[0m",
      "\u001b[0;32m/tmp/ipykernel_2765/3960066844.py\u001b[0m in \u001b[0;36mbinary_to_string\u001b[0;34m(binString)\u001b[0m\n\u001b[1;32m      1\u001b[0m \u001b[0;32mdef\u001b[0m \u001b[0mbinary_to_string\u001b[0m\u001b[0;34m(\u001b[0m\u001b[0mbinString\u001b[0m\u001b[0;34m)\u001b[0m\u001b[0;34m:\u001b[0m\u001b[0;34m\u001b[0m\u001b[0;34m\u001b[0m\u001b[0m\n\u001b[0;32m----> 2\u001b[0;31m     \u001b[0mbinary_int\u001b[0m \u001b[0;34m=\u001b[0m \u001b[0mint\u001b[0m\u001b[0;34m(\u001b[0m\u001b[0mbinString\u001b[0m\u001b[0;34m,\u001b[0m \u001b[0;36m2\u001b[0m\u001b[0;34m)\u001b[0m\u001b[0;34m\u001b[0m\u001b[0;34m\u001b[0m\u001b[0m\n\u001b[0m\u001b[1;32m      3\u001b[0m     \u001b[0mbyte_number\u001b[0m \u001b[0;34m=\u001b[0m \u001b[0mbinary_int\u001b[0m\u001b[0;34m.\u001b[0m\u001b[0mbit_length\u001b[0m\u001b[0;34m(\u001b[0m\u001b[0;34m)\u001b[0m \u001b[0;34m+\u001b[0m \u001b[0;36m7\u001b[0m \u001b[0;34m//\u001b[0m \u001b[0;36m8\u001b[0m\u001b[0;34m\u001b[0m\u001b[0;34m\u001b[0m\u001b[0m\n\u001b[1;32m      4\u001b[0m     \u001b[0mbinary_array\u001b[0m \u001b[0;34m=\u001b[0m \u001b[0mbinary_int\u001b[0m\u001b[0;34m.\u001b[0m\u001b[0mto_bytes\u001b[0m\u001b[0;34m(\u001b[0m\u001b[0mbyte_number\u001b[0m\u001b[0;34m,\u001b[0m \u001b[0;34m\"big\"\u001b[0m\u001b[0;34m)\u001b[0m\u001b[0;34m\u001b[0m\u001b[0;34m\u001b[0m\u001b[0m\n\u001b[1;32m      5\u001b[0m     \u001b[0mascii_text\u001b[0m \u001b[0;34m=\u001b[0m \u001b[0mbinary_array\u001b[0m\u001b[0;34m.\u001b[0m\u001b[0mdecode\u001b[0m\u001b[0;34m(\u001b[0m\u001b[0;34m)\u001b[0m\u001b[0;34m\u001b[0m\u001b[0;34m\u001b[0m\u001b[0m\n",
      "\u001b[0;31mValueError\u001b[0m: invalid literal for int() with base 2: b'\\xf0\\xecs\\xea,\\xa8\\x9fa\\x19\\xf7\\xb9\\xb9=\\x95`M\\n\\xe9r\\xd4\\xcb\\xc8\\xe0\\xf9\\xb3\\xa2\\x89\\x03[\\xb7T1\\xff\\xc1\\xef\\xe6g\"\\xf6\\x15\\x0ec\\x1cn]\\xc5c[\\xe6O\\x01\\xecGr\\xb2i\\xd6\\x05\\x97\\x7fb\\x95\\xed\\xfd0\\'\\xd8\\xe"
     ]
    }
   ],
   "source": []
  },
  {
   "cell_type": "code",
   "execution_count": 48,
   "metadata": {},
   "outputs": [],
   "source": [
    "# pad(test, 16)"
   ]
  },
  {
   "cell_type": "code",
   "execution_count": 63,
   "metadata": {},
   "outputs": [],
   "source": [
    "# encrypted_test"
   ]
  },
  {
   "cell_type": "code",
   "execution_count": 116,
   "metadata": {},
   "outputs": [
    {
     "ename": "ValueError",
     "evalue": "Input strings must be a multiple of 16 in length",
     "output_type": "error",
     "traceback": [
      "\u001b[0;31m---------------------------------------------------------------------------\u001b[0m",
      "\u001b[0;31mValueError\u001b[0m                                Traceback (most recent call last)",
      "\u001b[0;32m/tmp/ipykernel_2765/2741450924.py\u001b[0m in \u001b[0;36m<module>\u001b[0;34m\u001b[0m\n\u001b[1;32m      2\u001b[0m \u001b[0mencrypted_test\u001b[0m \u001b[0;34m=\u001b[0m \u001b[0mbytes\u001b[0m\u001b[0;34m(\u001b[0m\u001b[0mtest\u001b[0m\u001b[0;34m,\u001b[0m \u001b[0;34m'utf-8'\u001b[0m\u001b[0;34m)\u001b[0m\u001b[0;34m\u001b[0m\u001b[0;34m\u001b[0m\u001b[0m\n\u001b[1;32m      3\u001b[0m \u001b[0mdecipher\u001b[0m \u001b[0;34m=\u001b[0m \u001b[0mAES\u001b[0m\u001b[0;34m.\u001b[0m\u001b[0mnew\u001b[0m\u001b[0;34m(\u001b[0m\u001b[0mkey\u001b[0m\u001b[0;34m,\u001b[0m \u001b[0mAES\u001b[0m\u001b[0;34m.\u001b[0m\u001b[0mMODE_ECB\u001b[0m\u001b[0;34m)\u001b[0m\u001b[0;34m\u001b[0m\u001b[0;34m\u001b[0m\u001b[0m\n\u001b[0;32m----> 4\u001b[0;31m \u001b[0mdecrypted_test\u001b[0m \u001b[0;34m=\u001b[0m \u001b[0munpad\u001b[0m\u001b[0;34m(\u001b[0m\u001b[0mdecipher\u001b[0m\u001b[0;34m.\u001b[0m\u001b[0mdecrypt\u001b[0m\u001b[0;34m(\u001b[0m\u001b[0mencrypted_test\u001b[0m\u001b[0;34m)\u001b[0m\u001b[0;34m,\u001b[0m\u001b[0;36m16\u001b[0m\u001b[0;34m)\u001b[0m\u001b[0;34m\u001b[0m\u001b[0;34m\u001b[0m\u001b[0m\n\u001b[0m\u001b[1;32m      5\u001b[0m \u001b[0;31m# decrypted_test = decipher.decrypt(pad(encrypted_test,16))\u001b[0m\u001b[0;34m\u001b[0m\u001b[0;34m\u001b[0m\u001b[0;34m\u001b[0m\u001b[0m\n\u001b[1;32m      6\u001b[0m \u001b[0;31m# decrypted_test = unpad(decrypted_test, 16)\u001b[0m\u001b[0;34m\u001b[0m\u001b[0;34m\u001b[0m\u001b[0;34m\u001b[0m\u001b[0m\n",
      "\u001b[0;32m~/.local/lib/python3.8/site-packages/Crypto/Cipher/blockalgo.py\u001b[0m in \u001b[0;36mdecrypt\u001b[0;34m(self, ciphertext)\u001b[0m\n\u001b[1;32m    293\u001b[0m             \u001b[0;32mreturn\u001b[0m \u001b[0mres\u001b[0m\u001b[0;34m\u001b[0m\u001b[0;34m\u001b[0m\u001b[0m\n\u001b[1;32m    294\u001b[0m \u001b[0;34m\u001b[0m\u001b[0m\n\u001b[0;32m--> 295\u001b[0;31m         \u001b[0;32mreturn\u001b[0m \u001b[0mself\u001b[0m\u001b[0;34m.\u001b[0m\u001b[0m_cipher\u001b[0m\u001b[0;34m.\u001b[0m\u001b[0mdecrypt\u001b[0m\u001b[0;34m(\u001b[0m\u001b[0mciphertext\u001b[0m\u001b[0;34m)\u001b[0m\u001b[0;34m\u001b[0m\u001b[0;34m\u001b[0m\u001b[0m\n\u001b[0m\u001b[1;32m    296\u001b[0m \u001b[0;34m\u001b[0m\u001b[0m\n",
      "\u001b[0;31mValueError\u001b[0m: Input strings must be a multiple of 16 in length"
     ]
    }
   ],
   "source": [
    "# take x and decrypt it\n",
    "encrypted_test = bytes(test, 'utf-8')\n",
    "decipher = AES.new(key, AES.MODE_ECB)\n",
    "decrypted_test = unpad(decipher.decrypt(encrypted_test),16)\n",
    "# decrypted_test = decipher.decrypt(pad(encrypted_test,16))\n",
    "# decrypted_test = unpad(decrypted_test, 16)\n",
    "# decrypted_test = decrypted_test.decode('utf-8')\n",
    "print(decrypted_test)"
   ]
  },
  {
   "cell_type": "code",
   "execution_count": null,
   "metadata": {},
   "outputs": [],
   "source": [
    "# def retrieve_message(pixels):\n",
    "#     # create empty list of binary values\n",
    "#     binList = []\n",
    "#     # loop through each pixel\n",
    "#     for i in range(len(pixels)):\n",
    "#         for j in range(len(pixels[i])):\n",
    "#             # get the pixel value\n",
    "#             pixel = pixels[i][j]\n",
    "#             # print(pixel)\n",
    "#             # get the last 2 characters of pixel\n",
    "#             binC = pixel[-2:]\n",
    "#             # add the the bits to the list\n",
    "#             binList.append(binC)\n",
    "#     l = ''.join(binList)\n",
    "#     return l"
   ]
  },
  {
   "cell_type": "code",
   "execution_count": 100,
   "metadata": {},
   "outputs": [],
   "source": [
    "\n",
    "# print(retrieve_Message(hiddenMessagePhoto))\n",
    "#save the message to a text file\n",
    "with open('test.txt', 'w') as output:\n",
    "    output.write(x)"
   ]
  },
  {
   "cell_type": "code",
   "execution_count": 115,
   "metadata": {},
   "outputs": [
    {
     "name": "stdout",
     "output_type": "stream",
     "text": [
      "b\"We the People of the United States, in Order to form a more perfect Union, establish Justice, insure domestic Tranquility, provide for the common defence, promote the general Welfare, and secure the Blessings of Liberty to ourselves and our Posterity, do ordain and establish this Constitution for the United States of America.\\nThe Constitutional Convention\\nArticle I\\nSection 1: Congress\\n\\nAll legislative Powers herein granted shall be vested in a Congress of the United States, which shall consist of a Senate and House of Representatives.\\nSection 2: The House of Representatives\\n\\nThe House of Representatives shall be composed of Members chosen every second Year by the People of the several States, and the Electors in each State shall have the Qualifications requisite for Electors of the most numerous Branch of the State Legislature.\\n\\nNo Person shall be a Representative who shall not have attained to the Age of twenty five Years, and been seven Years a Citizen of the United States, and who shall not, when elected, be an Inhabitant of that State in which he shall be chosen.\\n\\nRepresentatives and direct Taxes shall be apportioned among the several States which may be included within this Union, according to their respective Numbers, which shall be determined by adding to the whole Number of free Persons, including those bound to Service for a Term of Years, and excluding Indians not taxed, three fifths of all other Persons. The actual Enumeration shall be made within three Years after the first Meeting of the Congress of the United States, and within every subsequent Term of ten Years, in such Manner as they shall by Law direct.The number of Representatives shall not exceed one for every thirty Thousand, but each State shall have at Least one Representative; and until such enumeration shall be made, the State of New Hampshire shall be entitled to chuse three, Massachusetts eight, Rhode-Island and Providence Plantations one, Connecticut five, New-York six, New Jersey four, Pennsylvania eight, Delaware one, Maryland six, Virginia ten, North Carolina five, South Carolina five, and Georgia three.\\n\\nWhen vacancies happen in the Representation from any State, the Executive Authority thereof shall issue Writs of Election to fill such Vacancies.\\n\\nThe House of Representatives shall chuse their Speaker and other Officers;and shall have the sole Power of Impeachment.\\nSection 3: The Senate\\n\\nThe Senate of the United States shall be composed of two Senators from each State, chosen by the Legislature thereof, for six Years; and each Senator shall have one Vote.\\n\\nImmediately after they shall be assembled in Consequence of the first Election, they shall be divided as equally as may be into three Classes. The Seats of the Senators of the first Class shall be vacated at the Expiration of the second Year, of the second Class at the Expiration of the fourth Year, and of the third Class at the Expiration of the sixth Year, so that one third may be chosen every second Year; and if Vacancies happen by Resignation, or otherwise, during the Recess of the Legislature of any State, the Executive thereof may make temporary Appointments until the next Meeting of the Legislature, which shall then fill such Vacancies.\\n\\nNo Person shall be a Senator who shall not have attained to the Age of thirty Years, and been nine Years a Citizen of the United States, and who shall not, when elected, be an Inhabitant of that State for which he shall be chosen.\\n\\nThe Vice President of the United States shall be President of the Senate, but shall have no Vote, unless they be equally divided.\\n\\nThe Senate shall chuse their other Officers, and also a President pro tempore, in the Absence of the Vice President, or when he shall exercise the Office of President of the United States.\\n\\nThe Senate shall have the sole Power to try all Impeachments. When sitting for that Purpose, they shall be on Oath or Affirmation. When the President of the United States is tried, the Chief Justice shall preside: And no Person shall be convicted without the Concurrence of two thirds of the Members present.\\n\\nJudgment in Cases of Impeachment shall not extend further than to removal from Office, and disqualification to hold and enjoy any Office of honor, Trust or Profit under the United States: but the Party convicted shall nevertheless be liable and subject to Indictment, Trial, Judgment and Punishment, according to Law.\\nSection 4: Elections\\n\\nThe Times, Places and Manner of holding Elections for Senators and Representatives, shall be prescribed in each State by the Legislature thereof; but the Congress may at any time by Law make or alter such Regulations, except as to the Places of chusing Senators.\\n\\nThe Congress shall assemble at least once in every Year, and such Meeting shall be on the first Monday in December, unless they shall by Law appoint a different Day.\\nSection 5: Powers and Duties of Congress\\n\\nEach House shall be the Judge of the Elections, Returns and Qualifications of its own Members,and a Majority of each shall constitute a Quorum to do Business; but a smaller Number may adjourn from day to day, and may be authorized to compel the Attendance of absent Members, in such Manner, and under such Penalties as each House may provide.\\n\\nEach House may determine the Rules of its Proceedings, punish its Members for disorderly Behaviour, and, with the Concurrence of two thirds, expel a Member.\\n\\nEach House shall keep a Journal of its Proceedings, and from time to time publish the same, excepting such Parts as may in their Judgment require Secrecy; and the Yeas and Nays of the Members of either House on any question shall, at the Desire of one fifth of those Present, be entered on the Journal.\\n\\nNeither House, during the Session of Congress, shall, without the Consent of the other, adjourn for more than three days, nor to any other Place than that in which the two Houses shall be sitting.\\nSection 6: Rights and Disabilities of Members\\n\\nThe Senators and Representatives shall receive a Compensation for their Services, to be ascertained by Law, and paid out of the Treasury of the United States.They shall in all Cases, except Treason, Felony and Breach of the Peace, be privileged from Arrest during their Attendance at the Session of their respective Houses, and in going to and returning from the same; and for any Speech or Debate in either House, they shall not be questioned in any other Place.\\n\\nNo Senator or Representative shall, during the Time for which he was elected, be appointed to any civil Office under the Authority of the United States, which shall have been created, or the Emoluments whereof shall have been encreased during such time; and no Person holding any Office under the United States, shall be a Member of either House during his Continuance in Office.\\nSection 7: Legislative Process\\n\\nAll Bills for raising Revenue shall originate in the House of Representatives; but the Senate may propose or concur with Amendments as on other Bills.\\n\\nEvery Bill which shall have passed the House of Representatives and the Senate, shall, before it become a Law, be presented to the President of the United States; If he approve he shall sign it, but if not he shall return it, with his Objections to that House in which it shall have originated, who shall enter the Objections at large on their Journal, and proceed to reconsider it. If after such Reconsideration two thirds of that House shall agree to pass the Bill, it shall be sent, together with the Objections, to the other House, by which it shall likewise be reconsidered, and if approved by two thirds of that House, it shall become a Law. But in all such Cases the Votes of both Houses shall be determined by Yeas and Nays, and the Names of the Persons voting for and against the Bill shall be entered on the Journal of each House respectively. If any Bill shall not be returned by the President within ten Days (Sundays excepted) after it shall have been presented to him, the Same shall be a Law, in like Manner as if he had signed it, unless the Congress by their Adjournment prevent its Return, in which Case it shall not be a Law.\\n\\nEvery Order, Resolution, or Vote to which the Concurrence of the Senate and House of Representatives may be necessary (except on a question of Adjournment) shall be presented to the President of the United States; and before the Same shall take Effect, shall be approved by him, or being disapproved by him, shall be repassed by two thirds of the Senate and House of Representatives, according to the Rules and Limitations prescribed in the Case of a Bill.\\nSection 8: Powers of Congress\\n\\nThe Congress shall have Power To lay and collect Taxes, Duties, Imposts and Excises, to pay the Debts and provide for the common Defence and general Welfare of the United States; but all Duties, Imposts and Excises shall be uniform throughout the United States;\\n\\nTo borrow Money on the credit of the United States;\\n\\nTo regulate Commerce with foreign Nations, and among the several States, and with the Indian Tribes;\\n\\nTo establish a uniform Rule of Naturalization, and uniform Laws on the subject of Bankruptcies throughout the United States;\\n\\nTo coin Money, regulate the Value thereof, and of foreign Coin, and fix the Standard of Weights and Measures;\\n\\nTo provide for the Punishment of counterfeiting the Securities and current Coin of the United States;\\n\\nTo establish Post Offices and post Roads;\\n\\nTo promote the Progress of Science and useful Arts, by securing for limited Times to Authors and Inventors the exclusive Right to their respective Writings and Discoveries;\\n\\nTo constitute Tribunals inferior to the supreme Court;\\n\\nTo define and punish Piracies and Felonies committed on the high Seas, and Offenses against the Law of Nations;\\n\\nTo declare War, grant Letters of Marque and Reprisal, and make Rules concerning Captures on Land and Water;\\n\\nTo raise and support Armies, but no Appropriation of Money to that Use shall be for a longer Term than two Years;\\n\\nTo provide and maintain a Navy;\\n\\nTo make Rules for the Government and Regulation of the land and naval Forces;\\n\\nTo provide for calling forth the Militia to execute the Laws of the Union, suppress Insurrections and repel Invasions;\\n\\nTo provide for organizing, arming, and disciplining, the Militia, and for governing such Part of them as may be employed in the Service of the United States, reserving to the States respectively, the Appointment of the Officers, and the Authority of training the Militia according to the discipline prescribed by Congress;\\n\\nTo exercise exclusive Legislation in all Cases whatsoever, over such District (not exceeding ten Miles square) as may, by Cession of particular States, and the Acceptance of Congress, become the Seat of the Government of the United States, and to exercise like Authority over all Places purchased by the Consent of the Legislature of the State in which the Same shall be, for the Erection of Forts, Magazines, Arsenals, dock-Yards and other needful Buildings;-And\\n\\nTo make all Laws which shall be necessary and proper for carrying into Execution the foregoing Powers, and all other Powers vested by this Constitution in the Government of the United States, or in any Department or Officer thereof.\\nSection 9: Powers Denied Congress\\n\\nThe Migration or Importation of such Persons as any of the States now existing shall think proper to admit, shall not be prohibited by the Congress prior to the Year one thousand eight hundred and eight, but a Tax or duty may be imposed on such Importation, not exceeding ten dollars for each Person.\\n\\nThe Privilege of the Writ of Habeas Corpus shall not be suspended, unless when in Cases of Rebellion or Invasion the public Safety may require it.\\n\\nNo Bill of Attainder or ex post facto Law shall be passed.\\n\\nNo Capitation, or other direct, Tax shall be laid, unless in Proportion to the Census or Enumeration herein before directed to be taken.\\n\\nNo Tax or Duty shall be laid on Articles exported from any State.\\n\\nNo Preference shall be given by any Regulation of Commerce or Revenue to the Ports of one State over those of another: nor shall Vessels bound to, or from, one State, be obliged to enter, clear, or pay Duties in another.\\n\\nNo Money shall be drawn from the Treasury, but in Consequence of Appropriations made by Law; and a regular Statement and Account of the Receipts and Expenditures of all public Money shall be published from time to time.\\n\\nNo Title of Nobility shall be granted by the United States: And no Person holding any Office of Profit or Trust under them, shall, without the Consent of the Congress, accept of any present, Emolument, Office, or Title, of any kind whatever, from any King, Prince, or foreign State.\\nSection 10: Powers Denied to the States\\n\\nNo State shall enter into any Treaty, Alliance, or Confederation; grant Letters of Marque and Reprisal; coin Money; emit Bills of Credit; make any Thing but gold and silver Coin a Tender in Payment of Debts; pass any Bill of Attainder, ex post facto Law, or Law impairing the Obligation of Contracts, or grant any Title of Nobility.\\n\\nNo State shall, without the Consent of the Congress, lay any Imposts or Duties on Imports or Exports, except what may be absolutely necessary for executing it's inspection Laws: and the net Produce of all Duties and Imposts, laid by any State on Imports or Exports, shall be for the Use of the Treasury of the United States; and all such Laws shall be subject to the Revision and Controul of the Congress.\\n\\nNo State shall, without the Consent of Congress, lay any Duty of Tonnage, keep Troops, or Ships of War in time of Peace, enter into any Agreement or Compact with another State, or with a foreign Power, or engage in War, unless actually invaded, or in such imminent Danger as will not admit of delay.\\n\"\n"
     ]
    }
   ],
   "source": [
    "# take x and decrypt it\n",
    "encrypted_test = bytes(test, 'utf-8')\n",
    "decipher = AES.new(key, AES.MODE_ECB)\n",
    "decrypted_test = unpad(decipher.decrypt(ciphertext), 16)\n",
    "# decrypted_test = decipher.decrypt(pad(encrypted_test,16))\n",
    "# decrypted_test = unpad(decrypted_test, 16)\n",
    "# decrypted_test = decrypted_test.decode('utf-8')\n",
    "print(decrypted_test)"
   ]
  }
 ],
 "metadata": {
  "interpreter": {
   "hash": "916dbcbb3f70747c44a77c7bcd40155683ae19c65e1c03b4aa3499c5328201f1"
  },
  "kernelspec": {
   "display_name": "Python 3.8.10 64-bit",
   "language": "python",
   "name": "python3"
  },
  "language_info": {
   "codemirror_mode": {
    "name": "ipython",
    "version": 3
   },
   "file_extension": ".py",
   "mimetype": "text/x-python",
   "name": "python",
   "nbconvert_exporter": "python",
   "pygments_lexer": "ipython3",
   "version": "3.8.10"
  },
  "orig_nbformat": 4
 },
 "nbformat": 4,
 "nbformat_minor": 2
}
