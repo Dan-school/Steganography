{
 "cells": [
  {
   "cell_type": "code",
   "execution_count": 95,
   "metadata": {},
   "outputs": [],
   "source": [
    "from PIL import Image\n",
    "from Cryptodome.Cipher import AES\n",
    "from Cryptodome.Util.Padding import pad, unpad\n",
    "from salsa20 import XSalsa20_xor\n",
    "from os import urandom\n"
   ]
  },
  {
   "cell_type": "code",
   "execution_count": 45,
   "metadata": {},
   "outputs": [],
   "source": [
    "def string_to_binary(message):\n",
    "    encodeM = str(message).encode()\n",
    "    bin_int = int.from_bytes(encodeM, 'big')\n",
    "    bin_string = bin(bin_int)[2:]\n",
    "    return \"0\" + bin_string"
   ]
  },
  {
   "cell_type": "code",
   "execution_count": 3,
   "metadata": {},
   "outputs": [],
   "source": [
    "def encode_message(pixels, binString):\n",
    "    # loop through each pixel\n",
    "    for i in range(len(pixels)):\n",
    "        for j in range(len(pixels[i])):\n",
    "            if (binString == ''):\n",
    "                return pixels\n",
    "            # get the pixel value this is in binary already\n",
    "            pixel = pixels[i][j]\n",
    "            # print(pixel)\n",
    "            # get first two characters of binString to be implanted into pixel\n",
    "            binStringC = binString[:2]\n",
    "            # remove first two characters of binString to the message will be eaten while looping\n",
    "            binString = binString[2:]\n",
    "            # get the first 6 character of binC then add the two bits of binStringC to the end\n",
    "            pixel = pixel[:6] + binStringC\n",
    "            #set the new pixel value\n",
    "            pixels[i][j] = pixel\n",
    "    # return pixels\n",
    "\n",
    "\n",
    " \n",
    "                "
   ]
  },
  {
   "cell_type": "code",
   "execution_count": 4,
   "metadata": {},
   "outputs": [],
   "source": [
    "def decode_message(pixelsWithMessage):\n",
    "    binaryPixels = [list(bin(p)[2:].rjust(8,'0') for p in pixel) for pixel in pixelsWithMessage]\n",
    "    binPixels = [list(pixel[-2:] for pixel in pixel) for pixel in binaryPixels]\n",
    "    # binPixels\n",
    "    # iterate through each binPixels and concatenate them into a string\n",
    "    binString = ''.join([''.join(pixel) for pixel in binPixels])\n",
    "    #split into 8 bit chunks\n",
    "    binString = [binString[i:i+8] for i in range(0, len(binString), 8)]\n",
    "    # print(binString)\n",
    "\n",
    "    # iterate through each binString and convert to int\n",
    "    binString = [int(b, 2) for b in binString]\n",
    "    # binString\n",
    "    # turn ascii numbers to ascii characters\n",
    "    binString = [chr(b) for b in binString]\n",
    "\n",
    "    binString = ''.join(binString)\n",
    "    return binString"
   ]
  },
  {
   "cell_type": "code",
   "execution_count": 5,
   "metadata": {},
   "outputs": [],
   "source": [
    "def binary_to_string(binString):\n",
    "    binary_int = int(binString, 2)  \n",
    "    byte_number = binary_int.bit_length() + 7 // 8\n",
    "    binary_array = binary_int.to_bytes(byte_number, \"big\")\n",
    "    ascii_text = binary_array.decode()\n",
    "    return ascii_text"
   ]
  },
  {
   "cell_type": "code",
   "execution_count": 6,
   "metadata": {},
   "outputs": [],
   "source": [
    "def canEncode(pixels, message):\n",
    "    LengthM = len(string_to_binary(message))\n",
    "    LengthP = len(pixels) *3 *2\n",
    "    print(\"message length: \", LengthM)\n",
    "    print(\"pixels length: \", LengthP)\n",
    "    if LengthM > LengthP:\n",
    "        return False, LengthM, LengthP\n",
    "    return True, LengthM, LengthP"
   ]
  },
  {
   "cell_type": "markdown",
   "metadata": {},
   "source": [
    "# Hide info and create photo"
   ]
  },
  {
   "cell_type": "code",
   "execution_count": 17,
   "metadata": {},
   "outputs": [],
   "source": [
    "def hide_Message(Photo1, hiddenMessage, photoName):\n",
    "    # turn txt file to binary\n",
    "    print(\"creating binary string\")\n",
    "    binMessage = string_to_binary(hiddenMessage)\n",
    "    # turn photo to pixel representation\n",
    "    pixels = Photo1.getdata()\n",
    "    # turn pixel representation into a list of lists\n",
    "    binaryPixels = [list(bin(p)[2:].rjust(8,'0') for p in pixel) for pixel in pixels]\n",
    "    # implant the message\n",
    "    print(\"encoding message\")\n",
    "    print(type(binMessage))\n",
    "    print(type(binaryPixels))\n",
    "    newPhotoPixelsBinary = encode_message(binaryPixels, binMessage)\n",
    "    # turn the binary pixels back into rgb values\n",
    "    print(\"converting back to rgb\")\n",
    "    newPhotoPixels = [tuple(int(p,2) for p in pixel) for pixel in newPhotoPixelsBinary]\n",
    "    # turn the rgb values back into a photo\n",
    "    newPhoto = Image.new(\"RGB\", Photo1.size)\n",
    "    newPhoto.putdata(newPhotoPixels)\n",
    "    # save the photo\n",
    "    finalFilename = \".\".join([photoName, \"png\"])\n",
    "    newPhoto.save(finalFilename)\n",
    "\n"
   ]
  },
  {
   "cell_type": "markdown",
   "metadata": {},
   "source": [
    "## no encyrption"
   ]
  },
  {
   "cell_type": "code",
   "execution_count": 93,
   "metadata": {},
   "outputs": [],
   "source": [
    "Photo1 = Image.open(\"startImages/IMG_4279.JPG\")\n",
    "Photo2 = Image.open('startImages/Photo2.jpg')\n",
    "\n",
    "hiddenMessage = open('ThingsToHide/LoTR.txt', 'r').read()\n",
    "hiddenMessage = str(hiddenMessage)\n",
    "# testB = string_to_binary(hiddenMessage)"
   ]
  },
  {
   "cell_type": "code",
   "execution_count": 94,
   "metadata": {},
   "outputs": [
    {
     "name": "stdout",
     "output_type": "stream",
     "text": [
      "message length:  8204672\n",
      "pixels length:  72999936\n",
      "creating binary string\n",
      "encoding message\n",
      "<class 'str'>\n",
      "<class 'list'>\n",
      "converting back to rgb\n"
     ]
    }
   ],
   "source": [
    "if canEncode(Photo1.getdata(), hiddenMessage):\n",
    "    hide_Message(Photo1, hiddenMessage, \"encodedImages/notEncypted\")"
   ]
  },
  {
   "cell_type": "code",
   "execution_count": 96,
   "metadata": {},
   "outputs": [],
   "source": [
    "notEncryptedMessage = Image.open('encodedImages/notEncypted.png')\n",
    "pixelsWithMessage = notEncryptedMessage.getdata()\n",
    "LBSMessage = decode_message(pixelsWithMessage)\n",
    "# LBSMessage\n",
    "# save the message to a file\n",
    "with open('decodedMessages/LSBMessage_noEncryption.txt', 'w') as f:\n",
    "    f.write(LBSMessage)\n"
   ]
  },
  {
   "cell_type": "markdown",
   "metadata": {},
   "source": [
    "# with encryption"
   ]
  },
  {
   "cell_type": "markdown",
   "metadata": {},
   "source": [
    "AES"
   ]
  },
  {
   "cell_type": "code",
   "execution_count": 46,
   "metadata": {},
   "outputs": [],
   "source": [
    "Photo1 = Image.open(\"startImages/Photo1.jpg\")\n",
    "hiddenMessage = open('ThingsToHide/test.txt', 'r').read()\n",
    "hiddenMessage = str(hiddenMessage)"
   ]
  },
  {
   "cell_type": "code",
   "execution_count": 97,
   "metadata": {},
   "outputs": [
    {
     "name": "stdout",
     "output_type": "stream",
     "text": [
      " this is the key:  b'\\x14\\xdaE\\xee-Tn\\xa3\\xf6\\xce<\\x05,\\x00\\xadF'\n"
     ]
    }
   ],
   "source": [
    "#this works can not decrpyt from it\n",
    "data = bytes(hiddenMessage, 'utf-8')\n",
    "key = b'\\x14\\xdaE\\xee-Tn\\xa3\\xf6\\xce<\\x05,\\x00\\xadF'\n",
    "print(\" this is the key: \", key)\n",
    "cipher = AES.new(key, AES.MODE_ECB)\n",
    "#pad the data\n",
    "padded_text = pad(data, AES.block_size)\n",
    "# print(padded_text)\n",
    "encrypted_message = cipher.encrypt(padded_text)"
   ]
  },
  {
   "cell_type": "markdown",
   "metadata": {},
   "source": [
    "test to make sure decrypts correctly"
   ]
  },
  {
   "cell_type": "code",
   "execution_count": 48,
   "metadata": {},
   "outputs": [],
   "source": [
    "decipher = AES.new(key, AES.MODE_ECB)\n",
    "decrypted_message = decipher.decrypt(encrypted_message)\n",
    "unpadded_decrypted_message = unpad(decrypted_message, 16)   \n",
    "\n",
    "# print(unpadded_decrypted_message)"
   ]
  },
  {
   "cell_type": "code",
   "execution_count": 49,
   "metadata": {},
   "outputs": [
    {
     "name": "stdout",
     "output_type": "stream",
     "text": [
      "message length:  316744\n",
      "pixels length:  7588800\n",
      "creating binary string\n",
      "encoding message\n",
      "<class 'str'>\n",
      "<class 'list'>\n",
      "converting back to rgb\n"
     ]
    }
   ],
   "source": [
    "# hide the message in the photo\n",
    "if canEncode(Photo1.getdata(), str(encrypted_message)):\n",
    "    hide_Message(Photo1, str(encrypted_message), \"encodedImages/encrypted\")"
   ]
  },
  {
   "cell_type": "code",
   "execution_count": 50,
   "metadata": {},
   "outputs": [],
   "source": [
    "hiddenImgEncrypted = Image.open('encodedImages/encrypted.png')\n",
    "\n",
    "pixelsWithMessageEncrypted = hiddenImgEncrypted.getdata()"
   ]
  },
  {
   "cell_type": "code",
   "execution_count": 51,
   "metadata": {},
   "outputs": [],
   "source": [
    "encrypted_message_from_Img = decode_message(pixelsWithMessageEncrypted)#decode"
   ]
  },
  {
   "cell_type": "code",
   "execution_count": 53,
   "metadata": {},
   "outputs": [
    {
     "ename": "ValueError",
     "evalue": "Data must be aligned to block boundary in ECB mode",
     "output_type": "error",
     "traceback": [
      "\u001b[0;31m---------------------------------------------------------------------------\u001b[0m",
      "\u001b[0;31mValueError\u001b[0m                                Traceback (most recent call last)",
      "\u001b[0;32m/tmp/ipykernel_18279/2585602144.py\u001b[0m in \u001b[0;36m<module>\u001b[0;34m\u001b[0m\n\u001b[1;32m      3\u001b[0m \u001b[0mdecipher\u001b[0m \u001b[0;34m=\u001b[0m \u001b[0mAES\u001b[0m\u001b[0;34m.\u001b[0m\u001b[0mnew\u001b[0m\u001b[0;34m(\u001b[0m\u001b[0mkey\u001b[0m\u001b[0;34m,\u001b[0m \u001b[0mAES\u001b[0m\u001b[0;34m.\u001b[0m\u001b[0mMODE_ECB\u001b[0m\u001b[0;34m)\u001b[0m\u001b[0;34m\u001b[0m\u001b[0;34m\u001b[0m\u001b[0m\n\u001b[1;32m      4\u001b[0m \u001b[0;34m\u001b[0m\u001b[0m\n\u001b[0;32m----> 5\u001b[0;31m \u001b[0mdecrypted_message\u001b[0m \u001b[0;34m=\u001b[0m \u001b[0mdecipher\u001b[0m\u001b[0;34m.\u001b[0m\u001b[0mdecrypt\u001b[0m\u001b[0;34m(\u001b[0m\u001b[0mencrypted_bytes\u001b[0m\u001b[0;34m)\u001b[0m\u001b[0;34m\u001b[0m\u001b[0;34m\u001b[0m\u001b[0m\n\u001b[0m\u001b[1;32m      6\u001b[0m \u001b[0;34m\u001b[0m\u001b[0m\n\u001b[1;32m      7\u001b[0m \u001b[0mdectpt_unpad\u001b[0m\u001b[0;34m=\u001b[0m \u001b[0munpad\u001b[0m\u001b[0;34m(\u001b[0m\u001b[0mdecrypted_message\u001b[0m\u001b[0;34m,\u001b[0m \u001b[0;36m16\u001b[0m\u001b[0;34m)\u001b[0m\u001b[0;34m\u001b[0m\u001b[0;34m\u001b[0m\u001b[0m\n",
      "\u001b[0;32m~/.local/lib/python3.8/site-packages/Cryptodome/Cipher/_mode_ecb.py\u001b[0m in \u001b[0;36mdecrypt\u001b[0;34m(self, ciphertext, output)\u001b[0m\n\u001b[1;32m    194\u001b[0m         \u001b[0;32mif\u001b[0m \u001b[0mresult\u001b[0m\u001b[0;34m:\u001b[0m\u001b[0;34m\u001b[0m\u001b[0;34m\u001b[0m\u001b[0m\n\u001b[1;32m    195\u001b[0m             \u001b[0;32mif\u001b[0m \u001b[0mresult\u001b[0m \u001b[0;34m==\u001b[0m \u001b[0;36m3\u001b[0m\u001b[0;34m:\u001b[0m\u001b[0;34m\u001b[0m\u001b[0;34m\u001b[0m\u001b[0m\n\u001b[0;32m--> 196\u001b[0;31m                 \u001b[0;32mraise\u001b[0m \u001b[0mValueError\u001b[0m\u001b[0;34m(\u001b[0m\u001b[0;34m\"Data must be aligned to block boundary in ECB mode\"\u001b[0m\u001b[0;34m)\u001b[0m\u001b[0;34m\u001b[0m\u001b[0;34m\u001b[0m\u001b[0m\n\u001b[0m\u001b[1;32m    197\u001b[0m             \u001b[0;32mraise\u001b[0m \u001b[0mValueError\u001b[0m\u001b[0;34m(\u001b[0m\u001b[0;34m\"Error %d while decrypting in ECB mode\"\u001b[0m \u001b[0;34m%\u001b[0m \u001b[0mresult\u001b[0m\u001b[0;34m)\u001b[0m\u001b[0;34m\u001b[0m\u001b[0;34m\u001b[0m\u001b[0m\n\u001b[1;32m    198\u001b[0m \u001b[0;34m\u001b[0m\u001b[0m\n",
      "\u001b[0;31mValueError\u001b[0m: Data must be aligned to block boundary in ECB mode"
     ]
    }
   ],
   "source": [
    "encrypted_bytes = bytes(encrypted_message_from_Img, 'utf-8')\n",
    "\n",
    "decipher = AES.new(key, AES.MODE_ECB)\n",
    "\n",
    "decrypted_message = decipher.decrypt(encrypted_bytes)\n",
    "\n",
    "dectpt_unpad= unpad(decrypted_message, 16)\n"
   ]
  },
  {
   "cell_type": "markdown",
   "metadata": {},
   "source": [
    "Salsa20"
   ]
  },
  {
   "cell_type": "code",
   "execution_count": 55,
   "metadata": {},
   "outputs": [],
   "source": []
  },
  {
   "cell_type": "code",
   "execution_count": 54,
   "metadata": {},
   "outputs": [],
   "source": [
    "Photo1 = Image.open(\"startImages/Photo1.jpg\")\n",
    "hiddenMessage = open('ThingsToHide/test.txt', 'r').read()\n",
    "# hiddenMessage = str(hiddenMessage)"
   ]
  },
  {
   "cell_type": "code",
   "execution_count": 56,
   "metadata": {},
   "outputs": [],
   "source": [
    "IV = urandom(24)\n",
    "KEY = b'*secret**secret**secret**secret*'\n",
    "ciphertext = XSalsa20_xor(bytes(hiddenMessage, 'utf-8'), IV, KEY)\n",
    "# print(XSalsa20_xor(ciphertext, IV, KEY).decode())"
   ]
  },
  {
   "cell_type": "code",
   "execution_count": 57,
   "metadata": {},
   "outputs": [
    {
     "data": {
      "text/plain": [
       "'01100010001001110011111000100111'"
      ]
     },
     "execution_count": 57,
     "metadata": {},
     "output_type": "execute_result"
    }
   ],
   "source": [
    "# str(ciphertext)\n",
    "string_to_binary(ciphertext[:1])"
   ]
  },
  {
   "cell_type": "code",
   "execution_count": 58,
   "metadata": {},
   "outputs": [
    {
     "name": "stdout",
     "output_type": "stream",
     "text": [
      "message length:  317056\n",
      "pixels length:  7588800\n",
      "creating binary string\n",
      "encoding message\n",
      "<class 'str'>\n",
      "<class 'list'>\n",
      "converting back to rgb\n"
     ]
    }
   ],
   "source": [
    "if canEncode(Photo1.getdata(), str(ciphertext)):\n",
    "    hide_Message(Photo1, str(ciphertext), \"encodedImages/encrypted\")"
   ]
  },
  {
   "cell_type": "code",
   "execution_count": 25,
   "metadata": {},
   "outputs": [],
   "source": [
    "hiddenImgEncrypted = Image.open('encodedImages/encrypted.png')\n",
    "pixelsWithMessageEncrypted = hiddenImgEncrypted.getdata()"
   ]
  },
  {
   "cell_type": "code",
   "execution_count": 26,
   "metadata": {},
   "outputs": [
    {
     "data": {
      "text/plain": [
       "str"
      ]
     },
     "execution_count": 26,
     "metadata": {},
     "output_type": "execute_result"
    }
   ],
   "source": [
    "encrypted_message_from_Img = decode_message(pixelsWithMessageEncrypted)#decode\n",
    "# type(encrypted_message_from_Img)"
   ]
  },
  {
   "cell_type": "code",
   "execution_count": 59,
   "metadata": {},
   "outputs": [],
   "source": [
    "# encrypted_message_from_Img"
   ]
  },
  {
   "cell_type": "code",
   "execution_count": 62,
   "metadata": {},
   "outputs": [
    {
     "ename": "UnicodeDecodeError",
     "evalue": "'utf-8' codec can't decode byte 0x85 in position 3: invalid start byte",
     "output_type": "error",
     "traceback": [
      "\u001b[0;31m---------------------------------------------------------------------------\u001b[0m",
      "\u001b[0;31mUnicodeDecodeError\u001b[0m                        Traceback (most recent call last)",
      "\u001b[0;32m/tmp/ipykernel_18279/2899239585.py\u001b[0m in \u001b[0;36m<module>\u001b[0;34m\u001b[0m\n\u001b[1;32m      1\u001b[0m \u001b[0mencrypted_bytes\u001b[0m \u001b[0;34m=\u001b[0m \u001b[0mbytes\u001b[0m\u001b[0;34m(\u001b[0m\u001b[0mencrypted_message_from_Img\u001b[0m\u001b[0;34m,\u001b[0m \u001b[0;34m'utf-8'\u001b[0m\u001b[0;34m)\u001b[0m\u001b[0;34m\u001b[0m\u001b[0;34m\u001b[0m\u001b[0m\n\u001b[0;32m----> 2\u001b[0;31m \u001b[0mdecrypted_msg\u001b[0m \u001b[0;34m=\u001b[0m \u001b[0mXSalsa20_xor\u001b[0m\u001b[0;34m(\u001b[0m\u001b[0mencrypted_bytes\u001b[0m\u001b[0;34m,\u001b[0m \u001b[0mIV\u001b[0m\u001b[0;34m,\u001b[0m \u001b[0mKEY\u001b[0m\u001b[0;34m)\u001b[0m\u001b[0;34m.\u001b[0m\u001b[0mdecode\u001b[0m\u001b[0;34m(\u001b[0m\u001b[0;34m)\u001b[0m\u001b[0;34m\u001b[0m\u001b[0;34m\u001b[0m\u001b[0m\n\u001b[0m",
      "\u001b[0;31mUnicodeDecodeError\u001b[0m: 'utf-8' codec can't decode byte 0x85 in position 3: invalid start byte"
     ]
    }
   ],
   "source": [
    "encrypted_bytes = bytes(encrypted_message_from_Img, 'utf-8')\n",
    "decrypted_msg = XSalsa20_xor(encrypted_bytes, IV, KEY).decode()"
   ]
  },
  {
   "cell_type": "code",
   "execution_count": null,
   "metadata": {},
   "outputs": [],
   "source": []
  },
  {
   "cell_type": "code",
   "execution_count": null,
   "metadata": {},
   "outputs": [],
   "source": []
  }
 ],
 "metadata": {
  "interpreter": {
   "hash": "916dbcbb3f70747c44a77c7bcd40155683ae19c65e1c03b4aa3499c5328201f1"
  },
  "kernelspec": {
   "display_name": "Python 3.8.10 64-bit",
   "language": "python",
   "name": "python3"
  },
  "language_info": {
   "codemirror_mode": {
    "name": "ipython",
    "version": 3
   },
   "file_extension": ".py",
   "mimetype": "text/x-python",
   "name": "python",
   "nbconvert_exporter": "python",
   "pygments_lexer": "ipython3",
   "version": "3.8.2"
  },
  "orig_nbformat": 4
 },
 "nbformat": 4,
 "nbformat_minor": 2
}
