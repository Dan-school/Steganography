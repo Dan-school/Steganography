{
 "cells": [
  {
   "cell_type": "code",
   "execution_count": 108,
   "metadata": {},
   "outputs": [],
   "source": [
    "from PIL import Image\n",
    "from Cryptodome.Cipher import AES, Salsa20\n",
    "# from pycryto.Cipher import AES\n",
    "# from Crypto.Util.Padding import pad, unpad\n",
    "from Cryptodome.Random import get_random_bytes\n",
    "from Cryptodome.Util.Padding import pad, unpad\n"
   ]
  },
  {
   "cell_type": "code",
   "execution_count": 2,
   "metadata": {},
   "outputs": [],
   "source": [
    "def string_to_binary(message):\n",
    "    encodeM = str(message).encode()\n",
    "    bin_int = int.from_bytes(encodeM, 'big')\n",
    "    bin_string = bin(bin_int)[2:]\n",
    "    return \"0\" + bin_string"
   ]
  },
  {
   "cell_type": "code",
   "execution_count": 3,
   "metadata": {},
   "outputs": [],
   "source": [
    "def encode_message(pixels, binString):\n",
    "    # loop through each pixel\n",
    "    for i in range(len(pixels)):\n",
    "        for j in range(len(pixels[i])):\n",
    "            if (binString == ''):\n",
    "                return pixels\n",
    "            # get the pixel value this is in binary already\n",
    "            pixel = pixels[i][j]\n",
    "            # print(pixel)\n",
    "            # get first two characters of binString to be implanted into pixel\n",
    "            binStringC = binString[:2]\n",
    "            # remove first two characters of binString to the message will be eaten while looping\n",
    "            binString = binString[2:]\n",
    "            # get the first 6 character of binC then add the two bits of binStringC to the end\n",
    "            pixel = pixel[:6] + binStringC\n",
    "            #set the new pixel value\n",
    "            pixels[i][j] = pixel\n",
    "    # return pixels\n",
    "\n",
    "\n",
    " \n",
    "                "
   ]
  },
  {
   "cell_type": "code",
   "execution_count": 4,
   "metadata": {},
   "outputs": [],
   "source": [
    "def decode_message(pixelsWithMessage):\n",
    "    binaryPixels = [list(bin(p)[2:].rjust(8,'0') for p in pixel) for pixel in pixelsWithMessage]\n",
    "    binPixels = [list(pixel[-2:] for pixel in pixel) for pixel in binaryPixels]\n",
    "    # binPixels\n",
    "    # iterate through each binPixels and concatenate them into a string\n",
    "    binString = ''.join([''.join(pixel) for pixel in binPixels])\n",
    "    #split into 8 bit chunks\n",
    "    binString = [binString[i:i+8] for i in range(0, len(binString), 8)]\n",
    "    # print(binString)\n",
    "\n",
    "    # iterate through each binString and convert to int\n",
    "    binString = [int(b, 2) for b in binString]\n",
    "    # binString\n",
    "    # turn ascii numbers to ascii characters\n",
    "    binString = [chr(b) for b in binString]\n",
    "\n",
    "    binString = ''.join(binString)\n",
    "    return binString"
   ]
  },
  {
   "cell_type": "code",
   "execution_count": 5,
   "metadata": {},
   "outputs": [],
   "source": [
    "def binary_to_string(binString):\n",
    "    binary_int = int(binString, 2)  \n",
    "    byte_number = binary_int.bit_length() + 7 // 8\n",
    "    binary_array = binary_int.to_bytes(byte_number, \"big\")\n",
    "    ascii_text = binary_array.decode()\n",
    "    return ascii_text"
   ]
  },
  {
   "cell_type": "code",
   "execution_count": 6,
   "metadata": {},
   "outputs": [],
   "source": [
    "def canEncode(pixels, message):\n",
    "    LengthM = len(string_to_binary(message))\n",
    "    LengthP = len(pixels) *3 *2\n",
    "    print(\"message length: \", LengthM)\n",
    "    print(\"pixels length: \", LengthP)\n",
    "    if LengthM > LengthP:\n",
    "        return False, LengthM, LengthP\n",
    "    return True, LengthM, LengthP"
   ]
  },
  {
   "cell_type": "markdown",
   "metadata": {},
   "source": [
    "# Hide info and create photo"
   ]
  },
  {
   "cell_type": "code",
   "execution_count": 8,
   "metadata": {},
   "outputs": [],
   "source": [
    "def hide_Message(Photo1, hiddenMessage, photoName):\n",
    "    # turn txt file to binary\n",
    "    binMessage = string_to_binary(hiddenMessage)\n",
    "    # turn photo to pixel representation\n",
    "    pixels = Photo1.getdata()\n",
    "    # turn pixel representation into a list of lists\n",
    "    binaryPixels = [list(bin(p)[2:].rjust(8,'0') for p in pixel) for pixel in pixels]\n",
    "    # implant the message\n",
    "    newPhotoPixelsBinary = encode_message(binaryPixels, binMessage)\n",
    "    # turn the binary pixels back into rgb values\n",
    "    newPhotoPixels = [tuple(int(p,2) for p in pixel) for pixel in newPhotoPixelsBinary]\n",
    "    # turn the rgb values back into a photo\n",
    "    newPhoto = Image.new(\"RGB\", Photo1.size)\n",
    "    newPhoto.putdata(newPhotoPixels)\n",
    "    # save the photo\n",
    "    finalFilename = \".\".join([photoName, \"png\"])\n",
    "    newPhoto.save(finalFilename)\n",
    "\n"
   ]
  },
  {
   "cell_type": "code",
   "execution_count": 87,
   "metadata": {},
   "outputs": [
    {
     "data": {
      "text/plain": [
       "(1700, 744)"
      ]
     },
     "execution_count": 87,
     "metadata": {},
     "output_type": "execute_result"
    }
   ],
   "source": [
    "Photo1.size"
   ]
  },
  {
   "cell_type": "code",
   "execution_count": 88,
   "metadata": {},
   "outputs": [
    {
     "data": {
      "text/plain": [
       "(1700, 744)"
      ]
     },
     "execution_count": 88,
     "metadata": {},
     "output_type": "execute_result"
    }
   ],
   "source": [
    "pixelsWithMessage.size"
   ]
  },
  {
   "cell_type": "markdown",
   "metadata": {},
   "source": [
    "# examples"
   ]
  },
  {
   "cell_type": "code",
   "execution_count": 109,
   "metadata": {},
   "outputs": [],
   "source": [
    "# decrypt_test"
   ]
  },
  {
   "cell_type": "markdown",
   "metadata": {},
   "source": [
    "## no encyrption"
   ]
  },
  {
   "cell_type": "code",
   "execution_count": 9,
   "metadata": {},
   "outputs": [],
   "source": [
    "Photo1 = Image.open(\"startImages/Photo1.jpg\")\n",
    "Photo2 = Image.open('startImages/Photo2.jpg')\n",
    "\n",
    "hiddenMessage = open('ThingsToHide/test.txt', 'r').read()\n",
    "hiddenMessage = str(hiddenMessage)\n",
    "# testB = string_to_binary(hiddenMessage)"
   ]
  },
  {
   "cell_type": "code",
   "execution_count": 10,
   "metadata": {},
   "outputs": [
    {
     "name": "stdout",
     "output_type": "stream",
     "text": [
      "message length:  110440\n",
      "pixels length:  7588800\n"
     ]
    }
   ],
   "source": [
    "if canEncode(Photo1.getdata(), hiddenMessage):\n",
    "    hide_Message(Photo1, hiddenMessage, \"encodedImages/notEncypted\")"
   ]
  },
  {
   "cell_type": "code",
   "execution_count": 11,
   "metadata": {},
   "outputs": [],
   "source": [
    "notEncryptedMessage = Image.open('encodedImages/notEncypted.png')\n",
    "pixelsWithMessage = notEncryptedMessage.getdata()\n",
    "LBSMessage = decode_message(pixelsWithMessage)\n",
    "# LBSMessage\n",
    "# save the message to a file\n",
    "# with open('decodedMessages/LSBMessage_noEncryption.txt', 'w') as f:\n",
    "#     f.write(LBSMessage)\n"
   ]
  },
  {
   "cell_type": "markdown",
   "metadata": {},
   "source": [
    "# with encryption"
   ]
  },
  {
   "cell_type": "code",
   "execution_count": 12,
   "metadata": {},
   "outputs": [],
   "source": [
    "Photo1 = Image.open(\"startImages/Photo1.jpg\")\n",
    "hiddenMessage = open('ThingsToHide/test.txt', 'r').read()\n",
    "hiddenMessage = str(hiddenMessage)"
   ]
  },
  {
   "cell_type": "code",
   "execution_count": 107,
   "metadata": {},
   "outputs": [
    {
     "name": "stdout",
     "output_type": "stream",
     "text": [
      " this is the key:  b'\\x14\\xdaE\\xee-Tn\\xa3\\xf6\\xce<\\x05,\\x00\\xadF'\n"
     ]
    },
    {
     "data": {
      "text/plain": [
       "bytes"
      ]
     },
     "execution_count": 107,
     "metadata": {},
     "output_type": "execute_result"
    }
   ],
   "source": [
    "#this works can not decrpyt from it\n",
    "data = bytes(hiddenMessage, 'utf-8')\n",
    "key = b'\\x14\\xdaE\\xee-Tn\\xa3\\xf6\\xce<\\x05,\\x00\\xadF'\n",
    "print(\" this is the key: \", key)\n",
    "cipher = AES.new(key, AES.MODE_ECB)\n",
    "padded_text = pad(data, 16)\n",
    "# print(padded_text)\n",
    "encrypted_message = cipher.encrypt(padded_text)\n",
    "len(encrypted_message)\n",
    "type(encrypted_message)\n",
    "# test = unpad(padded_text, 16)\n",
    "# test"
   ]
  },
  {
   "cell_type": "markdown",
   "metadata": {},
   "source": [
    "test to make sure decrypts correctly"
   ]
  },
  {
   "cell_type": "code",
   "execution_count": 99,
   "metadata": {},
   "outputs": [],
   "source": [
    "decipher = AES.new(key, AES.MODE_ECB)\n",
    "decrypted_message = decipher.decrypt(encrypted_message)\n",
    "unpadded_decrypted_message = unpad(decrypted_message, 16)   \n",
    "\n",
    "# print(unpadded_decrypted_message)"
   ]
  },
  {
   "cell_type": "code",
   "execution_count": 100,
   "metadata": {},
   "outputs": [
    {
     "name": "stdout",
     "output_type": "stream",
     "text": [
      "message length:  316744\n",
      "pixels length:  7588800\n"
     ]
    }
   ],
   "source": [
    "# hide the message in the photo\n",
    "if canEncode(Photo1.getdata(), str(encrypted_message)):\n",
    "    hide_Message(Photo1, str(encrypted_message), \"encodedImages/encrypted\")"
   ]
  },
  {
   "cell_type": "code",
   "execution_count": 101,
   "metadata": {},
   "outputs": [],
   "source": [
    "hiddenImgEncrypted = Image.open('encodedImages/encrypted.png')\n",
    "\n",
    "# with open(\"encodedImages/encrypted.png\", \"rb\") as image:\n",
    "#   f = image.read()\n",
    "#   b = bytearray(f)\n",
    "# print(b)\n",
    "# pixelsWithMessageEncrypted = b\n",
    "pixelsWithMessageEncrypted = hiddenImgEncrypted.getdata()"
   ]
  },
  {
   "cell_type": "code",
   "execution_count": 102,
   "metadata": {},
   "outputs": [
    {
     "name": "stdout",
     "output_type": "stream",
     "text": [
      "1264800\n",
      "(109, 66, 60)\n",
      "7588800\n"
     ]
    }
   ],
   "source": [
    "print(len(pixelsWithMessageEncrypted))\n",
    "print(pixelsWithMessageEncrypted[0])\n",
    "print(1700*744*3*2)"
   ]
  },
  {
   "cell_type": "code",
   "execution_count": 103,
   "metadata": {},
   "outputs": [],
   "source": [
    "encrypted_message_from_Img = decode_message(pixelsWithMessageEncrypted)#decode"
   ]
  },
  {
   "cell_type": "code",
   "execution_count": 104,
   "metadata": {},
   "outputs": [
    {
     "name": "stdout",
     "output_type": "stream",
     "text": [
      "13808\n",
      "948600\n"
     ]
    }
   ],
   "source": [
    "print((len(encrypted_message)))\n",
    "print(len(encrypted_message_from_Img))"
   ]
  },
  {
   "cell_type": "code",
   "execution_count": 105,
   "metadata": {},
   "outputs": [
    {
     "ename": "ValueError",
     "evalue": "PKCS#7 padding is incorrect.",
     "output_type": "error",
     "traceback": [
      "\u001b[1;31m---------------------------------------------------------------------------\u001b[0m",
      "\u001b[1;31mValueError\u001b[0m                                Traceback (most recent call last)",
      "\u001b[1;32m~\\AppData\\Local\\Temp/ipykernel_3616/939265870.py\u001b[0m in \u001b[0;36m<module>\u001b[1;34m\u001b[0m\n\u001b[0;32m      9\u001b[0m \u001b[1;33m\u001b[0m\u001b[0m\n\u001b[0;32m     10\u001b[0m \u001b[1;31m# decrypted_test\u001b[0m\u001b[1;33m\u001b[0m\u001b[1;33m\u001b[0m\u001b[1;33m\u001b[0m\u001b[0m\n\u001b[1;32m---> 11\u001b[1;33m \u001b[0mdectpt_unpad\u001b[0m\u001b[1;33m=\u001b[0m \u001b[0munpad\u001b[0m\u001b[1;33m(\u001b[0m\u001b[0mdecrypted_message\u001b[0m\u001b[1;33m,\u001b[0m \u001b[1;36m16\u001b[0m\u001b[1;33m)\u001b[0m\u001b[1;33m\u001b[0m\u001b[1;33m\u001b[0m\u001b[0m\n\u001b[0m\u001b[0;32m     12\u001b[0m \u001b[1;31m# decrypted_test = decipher.decrypt(pad(encrypted_test,16))\u001b[0m\u001b[1;33m\u001b[0m\u001b[1;33m\u001b[0m\u001b[1;33m\u001b[0m\u001b[0m\n\u001b[0;32m     13\u001b[0m \u001b[1;31m# decrypted_test = unpad(decrypted_test, 16)\u001b[0m\u001b[1;33m\u001b[0m\u001b[1;33m\u001b[0m\u001b[1;33m\u001b[0m\u001b[0m\n",
      "\u001b[1;32m~\\AppData\\Local\\Programs\\Python\\Python38\\lib\\site-packages\\Cryptodome\\Util\\Padding.py\u001b[0m in \u001b[0;36munpad\u001b[1;34m(padded_data, block_size, style)\u001b[0m\n\u001b[0;32m     93\u001b[0m         \u001b[1;32mif\u001b[0m \u001b[0mstyle\u001b[0m \u001b[1;33m==\u001b[0m \u001b[1;34m'pkcs7'\u001b[0m\u001b[1;33m:\u001b[0m\u001b[1;33m\u001b[0m\u001b[1;33m\u001b[0m\u001b[0m\n\u001b[0;32m     94\u001b[0m             \u001b[1;32mif\u001b[0m \u001b[0mpadded_data\u001b[0m\u001b[1;33m[\u001b[0m\u001b[1;33m-\u001b[0m\u001b[0mpadding_len\u001b[0m\u001b[1;33m:\u001b[0m\u001b[1;33m]\u001b[0m\u001b[1;33m!=\u001b[0m\u001b[0mbchr\u001b[0m\u001b[1;33m(\u001b[0m\u001b[0mpadding_len\u001b[0m\u001b[1;33m)\u001b[0m\u001b[1;33m*\u001b[0m\u001b[0mpadding_len\u001b[0m\u001b[1;33m:\u001b[0m\u001b[1;33m\u001b[0m\u001b[1;33m\u001b[0m\u001b[0m\n\u001b[1;32m---> 95\u001b[1;33m                 \u001b[1;32mraise\u001b[0m \u001b[0mValueError\u001b[0m\u001b[1;33m(\u001b[0m\u001b[1;34m\"PKCS#7 padding is incorrect.\"\u001b[0m\u001b[1;33m)\u001b[0m\u001b[1;33m\u001b[0m\u001b[1;33m\u001b[0m\u001b[0m\n\u001b[0m\u001b[0;32m     96\u001b[0m         \u001b[1;32melse\u001b[0m\u001b[1;33m:\u001b[0m\u001b[1;33m\u001b[0m\u001b[1;33m\u001b[0m\u001b[0m\n\u001b[0;32m     97\u001b[0m             \u001b[1;32mif\u001b[0m \u001b[0mpadded_data\u001b[0m\u001b[1;33m[\u001b[0m\u001b[1;33m-\u001b[0m\u001b[0mpadding_len\u001b[0m\u001b[1;33m:\u001b[0m\u001b[1;33m-\u001b[0m\u001b[1;36m1\u001b[0m\u001b[1;33m]\u001b[0m\u001b[1;33m!=\u001b[0m\u001b[0mbchr\u001b[0m\u001b[1;33m(\u001b[0m\u001b[1;36m0\u001b[0m\u001b[1;33m)\u001b[0m\u001b[1;33m*\u001b[0m\u001b[1;33m(\u001b[0m\u001b[0mpadding_len\u001b[0m\u001b[1;33m-\u001b[0m\u001b[1;36m1\u001b[0m\u001b[1;33m)\u001b[0m\u001b[1;33m:\u001b[0m\u001b[1;33m\u001b[0m\u001b[1;33m\u001b[0m\u001b[0m\n",
      "\u001b[1;31mValueError\u001b[0m: PKCS#7 padding is incorrect."
     ]
    }
   ],
   "source": [
    "\n",
    "encrypted_bytes = bytes(encrypted_message_from_Img, 'utf-8')\n",
    "encrypted_bytes = encrypted_bytes[:13808]\n",
    "type(encrypted_message)\n",
    "decipher = AES.new(key, AES.MODE_ECB)\n",
    "\n",
    "decrypted_message = decipher.decrypt(encrypted_bytes)\n",
    "# decrypted_test = decipher.decrypt(decrypt_bytes)\n",
    "\n",
    "\n",
    "# decrypted_test\n",
    "dectpt_unpad= unpad(decrypted_message, 16)\n",
    "# decrypted_test = decipher.decrypt(pad(encrypted_test,16))\n",
    "# decrypted_test = unpad(decrypted_test, 16)\n",
    "# decrypted_test = decrypted_test.decode('utf-8')\n",
    "# print(decrypted_test)"
   ]
  },
  {
   "cell_type": "code",
   "execution_count": null,
   "metadata": {},
   "outputs": [],
   "source": []
  },
  {
   "cell_type": "markdown",
   "metadata": {},
   "source": [
    "# salsa20"
   ]
  },
  {
   "cell_type": "code",
   "execution_count": 109,
   "metadata": {},
   "outputs": [],
   "source": [
    "Photo1 = Image.open(\"startImages/Photo1.jpg\")\n",
    "hiddenMessage = open('ThingsToHide/test.txt', 'r').read()\n",
    "# hiddenMessage = str(hiddenMessage)"
   ]
  },
  {
   "cell_type": "code",
   "execution_count": 118,
   "metadata": {},
   "outputs": [],
   "source": [
    "keyS = b'\\x14\\xdaE\\xee-Tn\\xa3\\xf6\\xce<\\x05,\\x00\\xadF\\x14\\xdaE\\xee-Tn\\xa3\\xf6\\xce<\\x05,\\x00\\xadF'\n",
    "Scipher = Salsa20.new(key = keyS)\n",
    "enc_msg = Scipher.nonce + Scipher.encrypt(b'hiddenMessage')\n",
    "# enc_msg = "
   ]
  },
  {
   "cell_type": "code",
   "execution_count": 119,
   "metadata": {},
   "outputs": [
    {
     "name": "stdout",
     "output_type": "stream",
     "text": [
      "message length:  432\n",
      "pixels length:  7588800\n"
     ]
    }
   ],
   "source": [
    "if canEncode(Photo1.getdata(), str(enc_msg)):\n",
    "    hide_Message(Photo1, str(enc_msg), \"encodedImages/encrypted\")"
   ]
  },
  {
   "cell_type": "code",
   "execution_count": 121,
   "metadata": {},
   "outputs": [],
   "source": [
    "hiddenImgEncrypted = Image.open('encodedImages/encrypted.png')\n",
    "pixelsWithMessageEncrypted = hiddenImgEncrypted.getdata()"
   ]
  },
  {
   "cell_type": "code",
   "execution_count": 128,
   "metadata": {},
   "outputs": [
    {
     "ename": "TypeError",
     "evalue": "string argument without an encoding",
     "output_type": "error",
     "traceback": [
      "\u001b[1;31m---------------------------------------------------------------------------\u001b[0m",
      "\u001b[1;31mTypeError\u001b[0m                                 Traceback (most recent call last)",
      "\u001b[1;32m~\\AppData\\Local\\Temp/ipykernel_3616/2892755164.py\u001b[0m in \u001b[0;36m<module>\u001b[1;34m\u001b[0m\n\u001b[0;32m      1\u001b[0m \u001b[0mencrypted_message_from_Img\u001b[0m \u001b[1;33m=\u001b[0m \u001b[0mdecode_message\u001b[0m\u001b[1;33m(\u001b[0m\u001b[0mpixelsWithMessageEncrypted\u001b[0m\u001b[1;33m)\u001b[0m\u001b[1;31m#decode\u001b[0m\u001b[1;33m\u001b[0m\u001b[1;33m\u001b[0m\u001b[0m\n\u001b[1;32m----> 2\u001b[1;33m \u001b[0mbytes\u001b[0m\u001b[1;33m(\u001b[0m\u001b[0mencrypted_message_from_Img\u001b[0m\u001b[1;33m)\u001b[0m\u001b[1;33m\u001b[0m\u001b[1;33m\u001b[0m\u001b[0m\n\u001b[0m",
      "\u001b[1;31mTypeError\u001b[0m: string argument without an encoding"
     ]
    }
   ],
   "source": [
    "encrypted_message_from_Img = decode_message(pixelsWithMessageEncrypted)#decode\n"
   ]
  },
  {
   "cell_type": "code",
   "execution_count": 131,
   "metadata": {},
   "outputs": [],
   "source": [
    "encrypted_message_from_Img = bytes(encrypted_message_from_Img, 'utf-8')"
   ]
  },
  {
   "cell_type": "code",
   "execution_count": 132,
   "metadata": {},
   "outputs": [],
   "source": [
    "msg_nonce = encrypted_message_from_Img[:8]\n",
    "# msg_nonce = bytes(msg_nonce)\n",
    "cipher_text = encrypted_message_from_Img[8:]\n",
    "cipher = Salsa20.new(key = keyS, nonce = msg_nonce)\n",
    "hope = cipher.decrypt(cipher_text)"
   ]
  },
  {
   "cell_type": "code",
   "execution_count": 137,
   "metadata": {},
   "outputs": [
    {
     "ename": "TypeError",
     "evalue": "'int' object is not iterable",
     "output_type": "error",
     "traceback": [
      "\u001b[1;31m---------------------------------------------------------------------------\u001b[0m",
      "\u001b[1;31mTypeError\u001b[0m                                 Traceback (most recent call last)",
      "\u001b[1;32m~\\AppData\\Local\\Temp/ipykernel_3616/3537353375.py\u001b[0m in \u001b[0;36m<module>\u001b[1;34m\u001b[0m\n\u001b[1;32m----> 1\u001b[1;33m \u001b[0mmessage\u001b[0m \u001b[1;33m=\u001b[0m \u001b[0mdecode_message\u001b[0m\u001b[1;33m(\u001b[0m\u001b[0mhope\u001b[0m\u001b[1;33m)\u001b[0m\u001b[1;33m\u001b[0m\u001b[1;33m\u001b[0m\u001b[0m\n\u001b[0m",
      "\u001b[1;32m~\\AppData\\Local\\Temp/ipykernel_3616/3188765983.py\u001b[0m in \u001b[0;36mdecode_message\u001b[1;34m(pixelsWithMessage)\u001b[0m\n\u001b[0;32m      1\u001b[0m \u001b[1;32mdef\u001b[0m \u001b[0mdecode_message\u001b[0m\u001b[1;33m(\u001b[0m\u001b[0mpixelsWithMessage\u001b[0m\u001b[1;33m)\u001b[0m\u001b[1;33m:\u001b[0m\u001b[1;33m\u001b[0m\u001b[1;33m\u001b[0m\u001b[0m\n\u001b[1;32m----> 2\u001b[1;33m     \u001b[0mbinaryPixels\u001b[0m \u001b[1;33m=\u001b[0m \u001b[1;33m[\u001b[0m\u001b[0mlist\u001b[0m\u001b[1;33m(\u001b[0m\u001b[0mbin\u001b[0m\u001b[1;33m(\u001b[0m\u001b[0mp\u001b[0m\u001b[1;33m)\u001b[0m\u001b[1;33m[\u001b[0m\u001b[1;36m2\u001b[0m\u001b[1;33m:\u001b[0m\u001b[1;33m]\u001b[0m\u001b[1;33m.\u001b[0m\u001b[0mrjust\u001b[0m\u001b[1;33m(\u001b[0m\u001b[1;36m8\u001b[0m\u001b[1;33m,\u001b[0m\u001b[1;34m'0'\u001b[0m\u001b[1;33m)\u001b[0m \u001b[1;32mfor\u001b[0m \u001b[0mp\u001b[0m \u001b[1;32min\u001b[0m \u001b[0mpixel\u001b[0m\u001b[1;33m)\u001b[0m \u001b[1;32mfor\u001b[0m \u001b[0mpixel\u001b[0m \u001b[1;32min\u001b[0m \u001b[0mpixelsWithMessage\u001b[0m\u001b[1;33m]\u001b[0m\u001b[1;33m\u001b[0m\u001b[1;33m\u001b[0m\u001b[0m\n\u001b[0m\u001b[0;32m      3\u001b[0m     \u001b[0mbinPixels\u001b[0m \u001b[1;33m=\u001b[0m \u001b[1;33m[\u001b[0m\u001b[0mlist\u001b[0m\u001b[1;33m(\u001b[0m\u001b[0mpixel\u001b[0m\u001b[1;33m[\u001b[0m\u001b[1;33m-\u001b[0m\u001b[1;36m2\u001b[0m\u001b[1;33m:\u001b[0m\u001b[1;33m]\u001b[0m \u001b[1;32mfor\u001b[0m \u001b[0mpixel\u001b[0m \u001b[1;32min\u001b[0m \u001b[0mpixel\u001b[0m\u001b[1;33m)\u001b[0m \u001b[1;32mfor\u001b[0m \u001b[0mpixel\u001b[0m \u001b[1;32min\u001b[0m \u001b[0mbinaryPixels\u001b[0m\u001b[1;33m]\u001b[0m\u001b[1;33m\u001b[0m\u001b[1;33m\u001b[0m\u001b[0m\n\u001b[0;32m      4\u001b[0m     \u001b[1;31m# binPixels\u001b[0m\u001b[1;33m\u001b[0m\u001b[1;33m\u001b[0m\u001b[1;33m\u001b[0m\u001b[0m\n\u001b[0;32m      5\u001b[0m     \u001b[1;31m# iterate through each binPixels and concatenate them into a string\u001b[0m\u001b[1;33m\u001b[0m\u001b[1;33m\u001b[0m\u001b[1;33m\u001b[0m\u001b[0m\n",
      "\u001b[1;32m~\\AppData\\Local\\Temp/ipykernel_3616/3188765983.py\u001b[0m in \u001b[0;36m<listcomp>\u001b[1;34m(.0)\u001b[0m\n\u001b[0;32m      1\u001b[0m \u001b[1;32mdef\u001b[0m \u001b[0mdecode_message\u001b[0m\u001b[1;33m(\u001b[0m\u001b[0mpixelsWithMessage\u001b[0m\u001b[1;33m)\u001b[0m\u001b[1;33m:\u001b[0m\u001b[1;33m\u001b[0m\u001b[1;33m\u001b[0m\u001b[0m\n\u001b[1;32m----> 2\u001b[1;33m     \u001b[0mbinaryPixels\u001b[0m \u001b[1;33m=\u001b[0m \u001b[1;33m[\u001b[0m\u001b[0mlist\u001b[0m\u001b[1;33m(\u001b[0m\u001b[0mbin\u001b[0m\u001b[1;33m(\u001b[0m\u001b[0mp\u001b[0m\u001b[1;33m)\u001b[0m\u001b[1;33m[\u001b[0m\u001b[1;36m2\u001b[0m\u001b[1;33m:\u001b[0m\u001b[1;33m]\u001b[0m\u001b[1;33m.\u001b[0m\u001b[0mrjust\u001b[0m\u001b[1;33m(\u001b[0m\u001b[1;36m8\u001b[0m\u001b[1;33m,\u001b[0m\u001b[1;34m'0'\u001b[0m\u001b[1;33m)\u001b[0m \u001b[1;32mfor\u001b[0m \u001b[0mp\u001b[0m \u001b[1;32min\u001b[0m \u001b[0mpixel\u001b[0m\u001b[1;33m)\u001b[0m \u001b[1;32mfor\u001b[0m \u001b[0mpixel\u001b[0m \u001b[1;32min\u001b[0m \u001b[0mpixelsWithMessage\u001b[0m\u001b[1;33m]\u001b[0m\u001b[1;33m\u001b[0m\u001b[1;33m\u001b[0m\u001b[0m\n\u001b[0m\u001b[0;32m      3\u001b[0m     \u001b[0mbinPixels\u001b[0m \u001b[1;33m=\u001b[0m \u001b[1;33m[\u001b[0m\u001b[0mlist\u001b[0m\u001b[1;33m(\u001b[0m\u001b[0mpixel\u001b[0m\u001b[1;33m[\u001b[0m\u001b[1;33m-\u001b[0m\u001b[1;36m2\u001b[0m\u001b[1;33m:\u001b[0m\u001b[1;33m]\u001b[0m \u001b[1;32mfor\u001b[0m \u001b[0mpixel\u001b[0m \u001b[1;32min\u001b[0m \u001b[0mpixel\u001b[0m\u001b[1;33m)\u001b[0m \u001b[1;32mfor\u001b[0m \u001b[0mpixel\u001b[0m \u001b[1;32min\u001b[0m \u001b[0mbinaryPixels\u001b[0m\u001b[1;33m]\u001b[0m\u001b[1;33m\u001b[0m\u001b[1;33m\u001b[0m\u001b[0m\n\u001b[0;32m      4\u001b[0m     \u001b[1;31m# binPixels\u001b[0m\u001b[1;33m\u001b[0m\u001b[1;33m\u001b[0m\u001b[1;33m\u001b[0m\u001b[0m\n\u001b[0;32m      5\u001b[0m     \u001b[1;31m# iterate through each binPixels and concatenate them into a string\u001b[0m\u001b[1;33m\u001b[0m\u001b[1;33m\u001b[0m\u001b[1;33m\u001b[0m\u001b[0m\n",
      "\u001b[1;31mTypeError\u001b[0m: 'int' object is not iterable"
     ]
    }
   ],
   "source": [
    "message = decode_message(hope)"
   ]
  },
  {
   "cell_type": "code",
   "execution_count": null,
   "metadata": {},
   "outputs": [],
   "source": []
  }
 ],
 "metadata": {
  "interpreter": {
   "hash": "916dbcbb3f70747c44a77c7bcd40155683ae19c65e1c03b4aa3499c5328201f1"
  },
  "kernelspec": {
   "display_name": "Python 3.8.10 64-bit",
   "language": "python",
   "name": "python3"
  },
  "language_info": {
   "codemirror_mode": {
    "name": "ipython",
    "version": 3
   },
   "file_extension": ".py",
   "mimetype": "text/x-python",
   "name": "python",
   "nbconvert_exporter": "python",
   "pygments_lexer": "ipython3",
   "version": "3.8.2"
  },
  "orig_nbformat": 4
 },
 "nbformat": 4,
 "nbformat_minor": 2
}
