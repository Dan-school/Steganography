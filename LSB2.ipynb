{
 "cells": [
  {
   "cell_type": "code",
   "execution_count": 1,
   "metadata": {},
   "outputs": [],
   "source": [
    "from PIL import Image\n",
    "import matplotlib.pyplot as plt\n",
    "from matplotlib import image\n",
    "import os"
   ]
  },
  {
   "cell_type": "code",
   "execution_count": 2,
   "metadata": {},
   "outputs": [],
   "source": [
    "# using utf-8 encoding\n",
    "bitsPerChar = 8  \n",
    "# can either going to try storing 2 bits per pixel so 2 * 3\n",
    "bitsPerPixel = 3\n",
    "maxBitStuffing = 2\n",
    "extension = \"jpg\""
   ]
  },
  {
   "cell_type": "code",
   "execution_count": 3,
   "metadata": {},
   "outputs": [],
   "source": [
    "def canEncode(img, msg):\n",
    "    if len(msg) * bitsPerChar > img.size[0] * img.size[1] * bitsPerPixel:\n",
    "        print(\"Message too long to encode\")\n",
    "        return False\n",
    "    print(\"Message can be encoded\")\n",
    "    return True\n"
   ]
  },
  {
   "cell_type": "code",
   "execution_count": 4,
   "metadata": {},
   "outputs": [],
   "source": [
    "def createBinaryList(msg):\n",
    "    binary = \"\"\n",
    "    for char in msg:\n",
    "        binary += bin(ord(char))[2:].zfill(bitsPerChar)\n",
    "    return list(binary) "
   ]
  },
  {
   "cell_type": "code",
   "execution_count": 5,
   "metadata": {},
   "outputs": [],
   "source": [
    "def createBinaryPairs(message):\n",
    "       # create a list of the characters in binary\n",
    "       binary = createBinaryList(message)\n",
    "       # create a list of pairs of characters with bits per pixel\n",
    "       pairs = [binary[i:i+bitsPerPixel] for i in range(0, len(binary), bitsPerPixel)]\n",
    "       return pairs"
   ]
  },
  {
   "cell_type": "code",
   "execution_count": 8,
   "metadata": {},
   "outputs": [
    {
     "data": {
      "text/plain": [
       "<ImagingCore at 0x7efd1819f510>"
      ]
     },
     "execution_count": 8,
     "metadata": {},
     "output_type": "execute_result"
    }
   ],
   "source": [
    "Photo1.getdata()"
   ]
  },
  {
   "cell_type": "code",
   "execution_count": 6,
   "metadata": {},
   "outputs": [
    {
     "name": "stdout",
     "output_type": "stream",
     "text": [
      "Message can be encoded\n"
     ]
    },
    {
     "data": {
      "text/plain": [
       "True"
      ]
     },
     "execution_count": 6,
     "metadata": {},
     "output_type": "execute_result"
    }
   ],
   "source": [
    "Photo1 = Image.open(\"Photo1.jpg\")\n",
    "hiddenMessage = open('hiddenMessage.txt', 'r').read()\n",
    "canEncode(Photo1, hiddenMessage)"
   ]
  },
  {
   "cell_type": "code",
   "execution_count": 173,
   "metadata": {},
   "outputs": [
    {
     "name": "stdout",
     "output_type": "stream",
     "text": [
      "21579\n",
      "3\n",
      "1264800\n",
      "3\n"
     ]
    }
   ],
   "source": [
    "bPairs = createBinaryPairs(hiddenMessage)\n",
    "\n",
    "# get list of pixels from Photo1\n",
    "pixels = list(Photo1.getdata())\n",
    "\n",
    "# create a list of the pixels in binary in tuples\n",
    "binaryPixelsTuples = [list((bin(pixels[i][0])[2:].zfill(8), bin(pixels[i][1])[2:].zfill(8), bin(pixels[i][2])[2:].zfill(8))) for i in range(len(pixels))]\n",
    "# binaryPixels = [list(bin(p)[2:].zfill(8) for p in pixel) for pixel in pixels]\n",
    "binaryPixelsTuples\n",
    "# print(len(bPairs))\n",
    "# print(len(bPairs[0]))\n",
    "# print(len(binaryPixelsTuples))\n",
    "# print(len(binaryPixelsTuples[0]))\n",
    "for i in range(len(bPairs)):\n",
    "    for j in range(len(bPairs[i])):\n",
    "        binaryPixelsTuples[i][j] = list(binaryPixelsTuples[i][j])\n",
    "        binaryPixelsTuples[i][j][-1] = bPairs[i][j]\n",
    "        binaryPixelsTuples[i][j] = \"\".join(binaryPixelsTuples[i][j])\n",
    "\n",
    "newPixels = [tuple(int(p,2) for p in pixel) for pixel in binaryPixelsTuples]\n",
    "newImg = Image.new(\"RGB\", size)\n",
    "newImg.putdata(newPixels)\n",
    "\n",
    "finalFilename = \".\".join([\"HindenMessagePhoto\",extension])\n",
    "newImg.save(finalFilename)"
   ]
  },
  {
   "cell_type": "code",
   "execution_count": 175,
   "metadata": {},
   "outputs": [],
   "source": [
    "def getLSBsFromPixels(binaryPixels):\n",
    "       totalZeros = 0\n",
    "       binList = []\n",
    "       for binaryPixel in binaryPixels:\n",
    "              for p in binaryPixel:\n",
    "                     if p[-1] == '0':\n",
    "                            totalZeros = totalZeros + 1\n",
    "                     else:\n",
    "                            totalZeros = 0\n",
    "                     binList.append(p[-1])\n",
    "                     if totalZeros == bitsPerChar:\n",
    "                            return  binList"
   ]
  },
  {
   "cell_type": "code",
   "execution_count": 176,
   "metadata": {},
   "outputs": [
    {
     "name": "stdout",
     "output_type": "stream",
     "text": [
      "G\u001cI$Ûm¶6¤­À~\u0012JI\n"
     ]
    }
   ],
   "source": [
    "img = Image.open(\"HindenMessagePhoto.jpg\")\n",
    "pixels = list(img.getdata())\n",
    "binaryPixels = [list(bin(p)[2:].rjust(bitsPerChar,'0') for p in pixel) for pixel in pixels]\n",
    "binList = getLSBsFromPixels(binaryPixels)\n",
    "message = \"\".join([chr(int(\"\".join(binList[i:i+bitsPerChar]),2)) for i in range(0,len(binList)-bitsPerChar,bitsPerChar)])\n",
    "print(message)"
   ]
  },
  {
   "cell_type": "code",
   "execution_count": 5,
   "metadata": {},
   "outputs": [],
   "source": []
  },
  {
   "cell_type": "code",
   "execution_count": 6,
   "metadata": {},
   "outputs": [],
   "source": []
  },
  {
   "cell_type": "code",
   "execution_count": 7,
   "metadata": {},
   "outputs": [],
   "source": []
  },
  {
   "cell_type": "code",
   "execution_count": 9,
   "metadata": {},
   "outputs": [],
   "source": []
  },
  {
   "cell_type": "code",
   "execution_count": null,
   "metadata": {},
   "outputs": [],
   "source": []
  }
 ],
 "metadata": {
  "interpreter": {
   "hash": "e7370f93d1d0cde622a1f8e1c04877d8463912d04d973331ad4851f04de6915a"
  },
  "kernelspec": {
   "display_name": "Python 2.7.18 64-bit",
   "language": "python",
   "name": "python3"
  },
  "language_info": {
   "codemirror_mode": {
    "name": "ipython",
    "version": 3
   },
   "file_extension": ".py",
   "mimetype": "text/x-python",
   "name": "python",
   "nbconvert_exporter": "python",
   "pygments_lexer": "ipython3",
   "version": "3.8.10"
  },
  "orig_nbformat": 4
 },
 "nbformat": 4,
 "nbformat_minor": 2
}
